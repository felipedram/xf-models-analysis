{
 "cells": [
  {
   "cell_type": "markdown",
   "metadata": {
    "colab_type": "text",
    "id": "view-in-github"
   },
   "source": [
    "<a href=\"https://colab.research.google.com/github/felipedram/xf-models-analysis/blob/master/trabalho_final.ipynb\" target=\"_parent\"><img src=\"https://colab.research.google.com/assets/colab-badge.svg\" alt=\"Open In Colab\"/></a>"
   ]
  },
  {
   "cell_type": "markdown",
   "metadata": {
    "colab_type": "text",
    "id": "jbafUdSFttaH"
   },
   "source": [
    "[Funções para teste](http://delta.cs.cinvestav.mx/~ccoello/EMOO/testfuncs/)<br>\n",
    "[Documentação basin-hopping](https://docs.scipy.org/doc/scipy/reference/generated/scipy.optimize.basinhopping.html#scipy.optimize.basinhopping)<br>\n",
    "[Documentação minimize](https://docs.scipy.org/doc/scipy/reference/generated/scipy.optimize.minimize.html)<br>\n",
    "[Basin-Hopping Paper](https://arxiv.org/pdf/cond-mat/9803344.pdf)<br>\n",
    "[Stochastic Gradient Descent Towards Data Science](https://towardsdatascience.com/gradient-descent-in-python-a0d07285742f)<br>\n",
    "[Stochastic Gradient Descent](https://www.pyimagesearch.com/2016/10/17/stochastic-gradient-descent-sgd-with-python/)\n",
    "[StatQuest Gradient Descent](https://www.youtube.com/watch?v=sDv4f4s2SB8)<br>\n",
    "[StatQuest Stochastic Gradient Descent](https://www.youtube.com/watch?v=vMh0zPT0tLI)"
   ]
  },
  {
   "cell_type": "markdown",
   "metadata": {},
   "source": [
    "Em \\cite{Ekel2002} foram introduzidos os modelos $\\langle X,R \\rangle$ e $\\langle X,F \\rangle$ como uma forma de lidar com as incertezas inerentes ao processo de tomada de decisão multicritério, utilizando a teoria de conjuntos fuzzy. O primeiro é aplicado a problemas multicritério e, o segundo, a problemas multiobjetivo. Para análise dos modelos, os autores utilizaram a abordagem Bellman-Zadeh, técnicas de relação de preferência *fuzzy* e introduziram o conceito de solução harmoniosa. Nas seções a seguir, vamos explorar o modelo $\\langle X,F \\rangle$, falando sobre as motivações que levaram a sua proposição, discutindo suas características e exemplificando sua aplicação.\n",
    "\n",
    "## Introdução\n",
    "\n",
    "### Otimização multiobjetivo\n",
    "\n",
    "De maneira bastante rasa, estamos diante de um problema de otimização matemática quando temos uma função $f(X)$ e queremos encontrar o $X$ que *maximiza* ou *minimiza* seu resultado. À essa função, chamamos de Função Objetivo (FO) e, matematicamente, escrevemos\n",
    "\n",
    "$$\n",
    "\\begin{equation}\n",
    "    f(X) \\rightarrow extr,\n",
    "\\end{equation}\n",
    "$$\n",
    "onde extr significa extremo, indicando que queremos levar essa função a um dos extremos (máximo ou mínimo).\n",
    "\n",
    "Normalmente, esse tipo de problema possui restrições de tal maneira que não pode ser aceito qualquer valor de $X$. Assim, aos valores aceitáveis para $X$, dá-se o nome de conjunto das soluções permissíveis, ou região das soluções factíveis, ou espaço de busca, ou $L$, simplesmente. Dentre os possíveis valores de $X$ ($X \\in L$), àquele que leva $f(X)$ ao extemo, chamamos de $X^*$ (alguns autores também chamam de $X^0$).\n",
    "\n",
    "Agora imagine um problema em que, ao invés de uma, temos algumas (2, 3, 4, ...) FOs. Ou seja, temos um conjunto (ou vetor) $F(X) = \\{f_0(X), f_1(X), f_2(X), ...\\}$ e queremos encontrar $X^*$. Ou seja, um único $X$ que maximiza (ou minimiza) todas as FOs ao mesmo tempo e que, assim como no primeiro problema, está sujeito a uma série de regras/restrições. Este é um problema de *otimização multiobjetivo* que escrevemos como\n",
    "\n",
    "$$\n",
    "\\begin{equation}\n",
    "    F(X) \\rightarrow extr \\text{.}\n",
    "\\end{equation}\n",
    "$$\n",
    "\n",
    "Certamente, encontrar esse $X^*$ não é tarefa fácil, principalmento porque, normalmente, as FOs são conflitantes. Então, que se discutir questões como normalização, princípios de otimalidade e prioridades dos critérios. A solução dessas questões passa por técnicas de escalarização, imposição restrições, método da função utilidade, programação de metas e utilização do princípio da garantia do resultado. Os autores de XX, indicaram como muito importante uma especial atenção para a utiliação do princípio da garantia do resultado, assim como uma lacuna na definição de \"solução ótima\". Para tratar dessas questões, os autores propuseram a aplicação da abordagem Bellman-Zadeh. Nas seções a seguir vamos implementar e discutir algumas aplicações da abordagem proposta em XX, bem como alguns prós e pontos de atenção para utilização do método.\n",
    "\n",
    "### Modelo $\\langle X,F \\rangle$ e a Abordagem de Bellman-Zadeh\n",
    "\n",
    "Em problemas de otimização multiobjetivo, ou problemas do tipo (2), não existe uma única solução que otimize a todos os objetivos simultaneamente. Nesses casos, falamos em soluções ótimas de Pareto, quando não é mais possível melhorar o valor de uma FO sem degradar o valor das demais, sem acréscimo de novas informações. Essas soluções também são conhecidas como soluções não-dominadas, ótimas de Pareto, Pareto eficientes ou não-inferiores. Todas as soluções da *fronteira de Pareto*, que aqui chamaremos de $\\Omega$, são consideradas igualmente boas. Agora, imagine que você é um profissional contratado para resolver um problema de otimização multiobjetivo. O que seu cliente diria se, como resultado de meses de trabalho, você entregasse a ele um conjunto infinito (ou finito incontável) de soluções?\n",
    "\n",
    "Foi pensando em tratar essa questão, sem descartar a necessidade de se observar todas as outras citadas anteriormente (normalização, otimalidade, etc.), que Ekel propôs o modelo $\\langle X,F \\rangle$ e a utilização da abordagem Bellman-Zadeh para sua análise. A ideia central da proposta é associar, para cada FO, um número *fuzzy* $\\{ X, \\mu_{A}(X) \\}$. Esse número *fuzzy* funciona como uma \"nota\" para cada $X \\in L$ e indica o grau de pertinência desse $X$ à melhor solução possível para aquela FO --- ou o grau de pertinência de $X$ ao $extr$ daquela FO.\n",
    "\n",
    "Como função de pertinência, ou seja, para o cálculo dessa nota, Ekel propôs\n",
    "\n",
    "$$\n",
    "\t\\begin{equation}\n",
    "\t\t\\mu_{A_{p}}(X)=\\Bigg[\\frac{f_p(X)-\\underset{X \\in L}\\min{f_p(X)}}{\\underset{X \\in L}\\max{f_p(X)}-\\underset{X \\in L}\\min{f_p(X)}}\\Bigg]\n",
    "\t\\end{equation}\n",
    "$$\n",
    "para FO a serem maximizadas e\n",
    "$$\n",
    "\t\\begin{equation}\n",
    "\t\t\\mu_{A_{p}}(X)=\\Bigg[\\frac{\\underset{X \\in L}\\max{f_p(X)}-f_p(X)}{\\underset{X \\in L}\\max{f_p(X)}-\\underset{X \\in L}\\min{f_p(X)}}\\Bigg]\n",
    "\t\\end{equation}\n",
    "$$\n",
    "para FO a serem minimizadas. Ekel também definiu que, dado um vetor $F$ de FOs, seus respectivos $\\mu_A$ formam um vetor $\\mu_D$.\n",
    "\n",
    "Dito isso, imagine que temos um problema com 4 FOs. Utilizando a notação de (2), temos: $F(X) = \\{f_0(X), f_1(X), f_2(X), f_3(X)\\}$ --- vamos começar a contar em zero para nos adequarmos à linguagem Python. Se um ponto $X_i$ qualquer atende às FOs em um nível $\\mu_D(X_i) = \\{0.3, 0.5, 0.7, 0.4\\}$ e outro ponto $X_j$ atende às FOs em um nível $\\mu_D(X_j) = \\{0.4, 0.5, 0.7, 0.6\\}$, podemos dizer que o ponto $X_j$ é uma solução melhor pois o menor nível de pertinência de $X_j$ é maior que o menor nível de pertinência de $X_i$, ou $\\min(\\mu_D(X_j)) > \\min(\\mu_D(X_i))$. Olhando dessa forma, fica claro que um problema de otimização multiobjetivo foi transformado em um problema $\\max \\min$ pois o $X^*$ que buscamos agora é aquele que ofereça um $\\mu_D$ cujo menor nível de pertinência é o maior possível. Também podemos dizer que essa forma de representar o problema nos permite resolver um problema multiobjetivo através de algoritmo monoobjetivo pois o algoritmo terá que trabalhar apenas com a função $\\max \\mu_D$. Isso ficará mais claro durante a iplementação computacional.\n",
    "\n",
    "#### Implementação computacional\n",
    "\n",
    "Agora que introduzimos o modelo $\\langle X,F \\rangle$ e como analisá-lo, vamos fazer uma implementação computacional com dois exemplos. E começaremos por definir uma FO genérica:"
   ]
  },
  {
   "cell_type": "code",
   "execution_count": 35,
   "metadata": {
    "colab": {},
    "colab_type": "code",
    "id": "8OLliwhH50NP"
   },
   "outputs": [],
   "source": [
    "import numpy as np"
   ]
  },
  {
   "cell_type": "code",
   "execution_count": 37,
   "metadata": {
    "colab": {},
    "colab_type": "code",
    "id": "VNuasvci50N8"
   },
   "outputs": [],
   "source": [
    "class f(object):\n",
    "    \"\"\"\n",
    "    Função Objetivo genérica\n",
    "    \n",
    "    Classe que representa uma FO genérica, para implementação do modelo <X,F>\n",
    "    \"\"\"\n",
    "\n",
    "    def __init__(self, solver, goal, f_max=None, x_max=None, f_min=None, x_min=None):\n",
    "        self.__solver = solver  # Equação da função\n",
    "        if goal == \"max\" or goal == \"min\":  # Objetivo a ser maximizado ou minimizado\n",
    "            self.__goal = goal\n",
    "        else:\n",
    "            raise Exception(\"goal deve ser 'max' ou 'min'.\")\n",
    "        self.__f_max = f_max  # Valoes a serem calculados para mu\n",
    "        self.__x_max = x_max\n",
    "        self.__f_min = f_min\n",
    "        self.__x_min = x_min\n",
    "\n",
    "    @property\n",
    "    def goal(self):\n",
    "        return self.__goal\n",
    "\n",
    "    @property\n",
    "    def f_max(self):\n",
    "        return self.__f_max\n",
    "\n",
    "    @f_max.setter\n",
    "    def f_max(self, f_max):\n",
    "        self.__f_max = f_max\n",
    "\n",
    "    @property\n",
    "    def x_max(self):\n",
    "        return self.__x_max\n",
    "\n",
    "    @x_max.setter\n",
    "    def x_max(self, x_max):\n",
    "        self.__x_max = x_max\n",
    "\n",
    "    @property\n",
    "    def f_min(self):\n",
    "        return self.__f_min\n",
    "\n",
    "    @f_max.setter\n",
    "    def f_min(self, f_min):\n",
    "        self.__f_min = f_min\n",
    "\n",
    "    @property\n",
    "    def x_min(self):\n",
    "        return self.__x_min\n",
    "\n",
    "    @x_min.setter\n",
    "    def x_min(self, x_min):\n",
    "        self.__x_min = x_min\n",
    "\n",
    "    def solve(self, x, inv=False):  # Retorna valor da fução para um dado ponto X\n",
    "        x = np.array(x)\n",
    "        return self.__solver(x) * -1 if inv else self.__solver(x)\n",
    "\n",
    "    def mu(self, x):  # Cálculo de mu, conforme definição\n",
    "        x = np.array(x)\n",
    "        if self.__goal == \"max\":\n",
    "            return (self.solve(x) - self.__f_min) / (self.__f_max - self.__f_min)\n",
    "        elif self.__goal == \"min\":\n",
    "            return (self.__f_max - self.solve(x)) / (self.__f_max - self.__f_min)"
   ]
  },
  {
   "cell_type": "markdown",
   "metadata": {},
   "source": [
    "**Nota** sobre o método solve: Por que pode ser necessário inverter o valor de $f(X)$?<br>\n",
    "Quando temos em mãos um algoritmo para minimização mas estamos diante de um objetivo a ser maximizado (ou vice-versa), a seguinte transformação pode ser útil:\n",
    "$$\n",
    "    \\begin{equation}\n",
    "        z = \\underset{X \\in L}{\\min} f(X) = -\\underset{X \\in L}{\\max} -f(X)\n",
    "    \\end{equation}\n",
    "$$"
   ]
  },
  {
   "cell_type": "markdown",
   "metadata": {},
   "source": [
    "Para um primeiro exemplo, vamos definir também uma FO linear, que é uma FO genérica cuja equação é um produto escalar dos coeficientes pelas variáveis."
   ]
  },
  {
   "cell_type": "code",
   "execution_count": 3,
   "metadata": {
    "colab": {},
    "colab_type": "code",
    "id": "-sjtji-n50OU"
   },
   "outputs": [],
   "source": [
    "class f_linear(f):\n",
    "    def __init__(self, coefs, goal):\n",
    "        self.__coefs = np.array(coefs)\n",
    "        f.__init__(self, lambda x: np.dot(self.__coefs, x), goal)\n",
    "\n",
    "    @property\n",
    "    def coefs(self):\n",
    "        return self.__coefs"
   ]
  },
  {
   "cell_type": "markdown",
   "metadata": {},
   "source": [
    "Vamos agora tratar de um exemplo: um problema de alocação de recursos com 4 FOs lineares\n",
    "\n",
    "$$\n",
    "    \\begin{align}\n",
    "        f_{0}(X)&= 0,06x_0+0,53x_1+0,18x_2+0,18x_3+0,06x_4 \\, \\rightarrow \\, \\max \\\\\n",
    "        f_{1}(X)&= 25x_0+70x_1+60x_2+95x_3+45x_4 \\, \\rightarrow \\, \\max \\\\\n",
    "        f_{2}(X)&= 0x_0+32,5x_1+300x_2+120x_3+0x_4 \\, \\rightarrow \\, \\min \\\\\n",
    "        f_{3}(X)&= 0,1x_0+0,1x_1+0,11x_2+0,35x_3+0,33x_4 \\, \\rightarrow \\, \\min\n",
    "    \\end{align}\n",
    "$$\n",
    "\n",
    "sujeitas às seguintes restrições\n",
    "\n",
    "$$\n",
    "\\begin{align}\n",
    "\t0 \\leq x_1 & \\leq 850 \\\\\n",
    "%\n",
    "\t0 \\leq x_2 & \\leq 220 \\\\\n",
    "%\n",
    "\t0 \\leq x_3 & \\leq 1300 \\\\\n",
    "%\n",
    "\t0 \\leq x_4 & \\leq 1615 \\\\\n",
    "%\n",
    "\t0 \\leq x_5 & \\leq 700 \\\\\n",
    "%\n",
    "\tx_1+x_2+x_3+x_4+x_5 & = 3\\text{mil}\n",
    "\\end{align}\n",
    "$$\n",
    "\n",
    "Criando as funções"
   ]
  },
  {
   "cell_type": "code",
   "execution_count": 4,
   "metadata": {
    "colab": {},
    "colab_type": "code",
    "id": "eYe8trpe50Ou"
   },
   "outputs": [],
   "source": [
    "f0 = f_linear([0.06, 0.53, 0.18, 0.18, 0.06], \"max\")\n",
    "f1 = f_linear([25, 70, 60, 95, 45], \"max\")\n",
    "f2 = f_linear([0, 32.5, 300, 120, 0], \"min\")\n",
    "f3 = f_linear([0.1, 0.1, 0.11, 0.35, 0.33], \"min\")\n",
    "\n",
    "F = [f0, f1, f2, f3]"
   ]
  },
  {
   "cell_type": "markdown",
   "metadata": {},
   "source": [
    "E as restrições (já conforme o melhor formato para utilização nos algoritmos de otimização disponíveis)"
   ]
  },
  {
   "cell_type": "code",
   "execution_count": 5,
   "metadata": {
    "colab": {},
    "colab_type": "code",
    "id": "LDSD_y8p50PG"
   },
   "outputs": [],
   "source": [
    "A_eq = np.array([[1, 1, 1, 1, 1]])\n",
    "b_eq = np.array([3000])\n",
    "x0_bounds = (0, 850)\n",
    "x1_bounds = (0, 220)\n",
    "x2_bounds = (0, 1300)\n",
    "x3_bounds = (0, 1615)\n",
    "x4_bounds = (0, 700)\n",
    "\n",
    "bounds = [x0_bounds, x1_bounds, x2_bounds, x3_bounds, x4_bounds]"
   ]
  },
  {
   "cell_type": "markdown",
   "metadata": {},
   "source": []
  },
  {
   "cell_type": "code",
   "execution_count": 7,
   "metadata": {
    "colab": {},
    "colab_type": "code",
    "id": "QJI5pDXX50Pq"
   },
   "outputs": [],
   "source": [
    "from scipy.optimize import linprog\n",
    "import warnings\n",
    "\n",
    "for f_ in F:\n",
    "    res = linprog(f_.coefs * -1, A_eq=A_eq, b_eq=b_eq, bounds=bounds, method='simplex')\n",
    "    if res.success:\n",
    "        f_.f_max = -1 * res.fun\n",
    "        f_.x_max = res.x\n",
    "    else:\n",
    "        warnings.warn(\"Otimização mal sucedida.\")"
   ]
  },
  {
   "cell_type": "code",
   "execution_count": 34,
   "metadata": {},
   "outputs": [
    {
     "name": "stdout",
     "output_type": "stream",
     "text": [
      "     con: array([0.])\n",
      "     fun: -617.0\n",
      " message: 'Optimization terminated successfully.'\n",
      "     nit: 10\n",
      "   slack: array([], dtype=float64)\n",
      "  status: 0\n",
      " success: True\n",
      "       x: array([   0.,  220., 1165., 1615.,    0.])\n"
     ]
    },
    {
     "data": {
      "text/plain": [
       "-1.2052471482889735"
      ]
     },
     "execution_count": 34,
     "metadata": {},
     "output_type": "execute_result"
    }
   ],
   "source": [
    "teste = linprog(f1.coefs * -1, A_eq=A_eq, b_eq=b_eq, bounds=bounds, method='simplex')\n",
    "print(teste)\n",
    "muD_max([f1], teste.fun*-1)"
   ]
  },
  {
   "cell_type": "code",
   "execution_count": 8,
   "metadata": {
    "colab": {},
    "colab_type": "code",
    "id": "0ZmVK8ua50P8"
   },
   "outputs": [],
   "source": [
    "for f_ in F:\n",
    "    res = linprog(f_.coefs, A_eq=A_eq, b_eq=b_eq, bounds=bounds, method='simplex')\n",
    "    if res.success:\n",
    "        f_.f_min = res.fun\n",
    "        f_.x_min = res.x\n",
    "    else:\n",
    "        warnings.warn(\"Otimização mal sucedida.\")"
   ]
  },
  {
   "cell_type": "code",
   "execution_count": 9,
   "metadata": {
    "colab": {},
    "colab_type": "code",
    "id": "gno6mkRm50QS"
   },
   "outputs": [],
   "source": [
    "def muD_min(x):\n",
    "    x = np.array(x)\n",
    "    return np.max([f_.mu(x)*-1 for f_ in F])"
   ]
  },
  {
   "cell_type": "code",
   "execution_count": 10,
   "metadata": {
    "colab": {},
    "colab_type": "code",
    "id": "SDWKf6Qn50Qo"
   },
   "outputs": [],
   "source": [
    "def basinhopping_bounds(**kwargs):\n",
    "    x = kwargs[\"x_new\"]\n",
    "    resp = True\n",
    "    if np.dot(x, A_eq[0]) != b_eq[0]:\n",
    "        resp = False\n",
    "    if x[0] < x0_bounds[0] or x[0] > x0_bounds[1]:\n",
    "        resp = False\n",
    "    if x[1] < x1_bounds[0] or x[1] > x1_bounds[1]:\n",
    "        resp = False\n",
    "    if x[2] < x2_bounds[0] or x[2] > x2_bounds[1]:\n",
    "        resp = False\n",
    "    if x[3] < x3_bounds[0] or x[3] > x3_bounds[1]:\n",
    "        resp = False\n",
    "    if x[4] < x4_bounds[0] or x[4] > x4_bounds[1]:\n",
    "        resp = False\n",
    "    return resp\n",
    "\n",
    "\n",
    "\n",
    "cobyla_constraints = [\n",
    "    {\"type\": \"ineq\", \"fun\": lambda x: x[0]},\n",
    "    {\"type\": \"ineq\", \"fun\": lambda x: x0_bounds[1] - x[0]},\n",
    "    {\"type\": \"ineq\", \"fun\": lambda x: x[1]},\n",
    "    {\"type\": \"ineq\", \"fun\": lambda x: x1_bounds[1] - x[1]},\n",
    "    {\"type\": \"ineq\", \"fun\": lambda x: x[2]},\n",
    "    {\"type\": \"ineq\", \"fun\": lambda x: x2_bounds[1] - x[2]},\n",
    "    {\"type\": \"ineq\", \"fun\": lambda x: x[3]},\n",
    "    {\"type\": \"ineq\", \"fun\": lambda x: x3_bounds[1] - x[3]},\n",
    "    {\"type\": \"ineq\", \"fun\": lambda x: x[4]},\n",
    "    {\"type\": \"ineq\", \"fun\": lambda x: x4_bounds[1] - x[4]},\n",
    "    {\"type\": \"eq\", \"fun\": lambda x: np.dot(x, A_eq[0]) - b_eq[0]},\n",
    "]"
   ]
  },
  {
   "cell_type": "code",
   "execution_count": 11,
   "metadata": {
    "colab": {},
    "colab_type": "code",
    "id": "nU0SllIy50RS"
   },
   "outputs": [],
   "source": [
    "minimizer_kwargs = {\"method\": \"SLSQP\", \"constraints\": cobyla_constraints}\n",
    "res1 = opt.basinhopping(\n",
    "    muD_min,\n",
    "    f1.x_max,\n",
    "    minimizer_kwargs=minimizer_kwargs,\n",
    "    accept_test=basinhopping_bounds,\n",
    "    disp=False,\n",
    ")\n",
    "res2 = opt.basinhopping(\n",
    "    muD_min,\n",
    "    f2.x_max,\n",
    "    minimizer_kwargs=minimizer_kwargs,\n",
    "    accept_test=basinhopping_bounds,\n",
    "    disp=False,\n",
    ")\n",
    "res3 = opt.basinhopping(\n",
    "    muD_min,\n",
    "    f3.x_max,\n",
    "    minimizer_kwargs=minimizer_kwargs,\n",
    "    accept_test=basinhopping_bounds,\n",
    "    disp=False,\n",
    ")\n",
    "res4 = opt.basinhopping(\n",
    "    muD_min,\n",
    "    f4.x_max,\n",
    "    minimizer_kwargs=minimizer_kwargs,\n",
    "    accept_test=basinhopping_bounds,\n",
    "    disp=False,\n",
    ")"
   ]
  },
  {
   "cell_type": "code",
   "execution_count": 12,
   "metadata": {
    "colab": {
     "base_uri": "https://localhost:8080/",
     "height": 86
    },
    "colab_type": "code",
    "id": "Fnbzf2Ua50R6",
    "outputId": "99b1d25f-ba24-4f12-f37b-6c725e4e1f4a"
   },
   "outputs": [
    {
     "name": "stdout",
     "output_type": "stream",
     "text": [
      "0.08500610982317854\n",
      "0.08423738579101561\n",
      "0.4984950723433928\n",
      "0.0023872004855269423\n"
     ]
    }
   ],
   "source": [
    "print(res1.fun*-1)\n",
    "print(res2.fun*-1)\n",
    "print(res3.fun*-1)\n",
    "print(res4.fun*-1)\n"
   ]
  },
  {
   "cell_type": "code",
   "execution_count": 13,
   "metadata": {
    "colab": {},
    "colab_type": "code",
    "id": "LFXcKY6BqLc5"
   },
   "outputs": [],
   "source": [
    "minimizer_kwargs = {\"method\": \"SLSQP\", \"constraints\": cobyla_constraints}\n",
    "res1 = opt.basinhopping(\n",
    "    muD_min,\n",
    "    f1.x_max,\n",
    "    minimizer_kwargs=minimizer_kwargs,\n",
    "    accept_test=basinhopping_bounds,\n",
    "    disp=False,\n",
    ")\n",
    "res2 = opt.basinhopping(\n",
    "    muD_min,\n",
    "    f2.x_max,\n",
    "    minimizer_kwargs=minimizer_kwargs,\n",
    "    accept_test=basinhopping_bounds,\n",
    "    disp=False,\n",
    ")\n",
    "res3 = opt.basinhopping(\n",
    "    muD_min,\n",
    "    f3.x_max,\n",
    "    minimizer_kwargs=minimizer_kwargs,\n",
    "    accept_test=basinhopping_bounds,\n",
    "    disp=False,\n",
    ")\n",
    "res4 = opt.basinhopping(\n",
    "    muD_min,\n",
    "    f4.x_max,\n",
    "    minimizer_kwargs=minimizer_kwargs,\n",
    "    accept_test=basinhopping_bounds,\n",
    "    disp=False,\n",
    ")"
   ]
  },
  {
   "cell_type": "code",
   "execution_count": 14,
   "metadata": {
    "colab": {
     "base_uri": "https://localhost:8080/",
     "height": 86
    },
    "colab_type": "code",
    "id": "fhicevJajQLO",
    "outputId": "220c320d-ea93-4cc8-e453-ee316c48ff44"
   },
   "outputs": [
    {
     "name": "stdout",
     "output_type": "stream",
     "text": [
      "0.08465519106836998\n",
      "0.08595675218205957\n",
      "0.001894084639702505\n",
      "0.35346003581079855\n"
     ]
    }
   ],
   "source": [
    "print(res1.fun*-1)\n",
    "print(res2.fun*-1)\n",
    "print(res3.fun*-1)\n",
    "print(res4.fun*-1)"
   ]
  },
  {
   "cell_type": "code",
   "execution_count": 15,
   "metadata": {
    "colab": {
     "base_uri": "https://localhost:8080/",
     "height": 173
    },
    "colab_type": "code",
    "id": "c6_Np8S8omXw",
    "outputId": "dcc62909-e0d1-4da0-ebab-50aba7d2d35c"
   },
   "outputs": [
    {
     "name": "stdout",
     "output_type": "stream",
     "text": [
      "Requirement already up-to-date: pyswarm in /Users/feliperamalho/anaconda3/lib/python3.6/site-packages (0.6)\n",
      "Requirement already satisfied, skipping upgrade: numpy in /Users/feliperamalho/anaconda3/lib/python3.6/site-packages (from pyswarm) (1.16.3)\n",
      "Note: you may need to restart the kernel to use updated packages.\n"
     ]
    }
   ],
   "source": [
    "pip install --upgrade pyswarm"
   ]
  },
  {
   "cell_type": "code",
   "execution_count": 16,
   "metadata": {
    "colab": {},
    "colab_type": "code",
    "id": "P5u4g2lY6fD-"
   },
   "outputs": [],
   "source": [
    "lb = [b[0] for b in bounds]\n",
    "ub = [b[1] for b in bounds]\n",
    "cons = [lambda x: np.dot(A_eq, x)-b_eq[0]+0.5, lambda x: np.dot(A_eq, x)-b_eq[0]-0.5]"
   ]
  },
  {
   "cell_type": "code",
   "execution_count": 17,
   "metadata": {
    "colab": {
     "base_uri": "https://localhost:8080/",
     "height": 34
    },
    "colab_type": "code",
    "id": "kjoojryvoYTb",
    "outputId": "3372d0c5-7ea0-43a2-e888-018b453dd8fc"
   },
   "outputs": [
    {
     "name": "stdout",
     "output_type": "stream",
     "text": [
      "Stopping search: Swarm best objective change less than 1e-08\n"
     ]
    }
   ],
   "source": [
    "from pyswarm import pso\n",
    "\n",
    "xpt, fopt = pso(muD_min, lb, ub, ieqcons=cons)\n"
   ]
  },
  {
   "cell_type": "code",
   "execution_count": 18,
   "metadata": {
    "colab": {
     "base_uri": "https://localhost:8080/",
     "height": 52
    },
    "colab_type": "code",
    "id": "a7oFh-5l_-6y",
    "outputId": "8e0a0c9e-fc06-4e7c-f244-77a22c3b49cb"
   },
   "outputs": [
    {
     "name": "stdout",
     "output_type": "stream",
     "text": [
      "[ 743.45892574  219.99999983  754.33445721 1037.82238497  333.49547888]\n",
      "0.5293350161124273\n"
     ]
    }
   ],
   "source": [
    "print(xpt)\n",
    "print(fopt*-1)"
   ]
  },
  {
   "cell_type": "code",
   "execution_count": 23,
   "metadata": {
    "colab": {},
    "colab_type": "code",
    "id": "J4ub2PdA4fxO"
   },
   "outputs": [],
   "source": [
    "def muD_max(F, x):\n",
    "    x = np.array(x)\n",
    "    return np.min([f_.mu(x) for f_ in F])\n",
    "\n",
    "\n",
    "def possivel_subtrair(posicao, limite, passo):\n",
    "    return True if posicao - passo >= limite[0] else False\n",
    "\n",
    "\n",
    "def possivel_adicionar(posicao, limite, passo):\n",
    "    return True if posicao + passo <= limite[1] else False\n",
    "\n",
    "\n",
    "def caminha(posicao_origem, passo, subtrair_de, adicionar_em):\n",
    "    posicao_destino = np.array(posicao_origem)\n",
    "    posicao_destino[subtrair_de] -= passo\n",
    "    posicao_destino[adicionar_em] += passo\n",
    "    return posicao_destino\n",
    "\n",
    "\n",
    "def passo_e_melhor(F, posicao_origem, posicao_destino):\n",
    "    return True if muD_max(F, posicao_origem) > muD_max(F, posicao_destino) else False"
   ]
  },
  {
   "cell_type": "code",
   "execution_count": 24,
   "metadata": {},
   "outputs": [
    {
     "name": "stdout",
     "output_type": "stream",
     "text": [
      "0.26356925749023014\n",
      "0.2573744391373571\n"
     ]
    },
    {
     "data": {
      "text/plain": [
       "True"
      ]
     },
     "execution_count": 24,
     "metadata": {},
     "output_type": "execute_result"
    }
   ],
   "source": [
    "pos = [ 850.,  220., 1300.,  630.,    0.]\n",
    "print(muD_max(F, pos))\n",
    "print(muD_max(F, caminha(pos, 10, 1, 2)))\n",
    "passo_e_melhor(F, pos, caminha(pos, 10, 1, 2))"
   ]
  },
  {
   "cell_type": "code",
   "execution_count": 28,
   "metadata": {
    "colab": {
     "base_uri": "https://localhost:8080/",
     "height": 52
    },
    "colab_type": "code",
    "id": "KMpSkYRAMqmO",
    "outputId": "9732a940-f973-4e5a-fbf0-a739e54a511e"
   },
   "outputs": [],
   "source": [
    "def heuristica_relogio(F, posicao_inicial, limites, passo=0.5):\n",
    "    posicao_atual = np.array(posicao_inicial)\n",
    "    num_vars = len(posicao_atual)\n",
    "    i = 0\n",
    "    while i < num_vars:\n",
    "        j = 0\n",
    "        while j < num_vars:\n",
    "            if i != j:\n",
    "                if possivel_subtrair(posicao_atual[i], limites[i], passo):\n",
    "                    if possivel_adicionar(posicao_atual[j], limites[j], passo):\n",
    "                        if passo_e_melhor(F, posicao_atual, caminha(posicao_atual, passo, i, j)):\n",
    "                            #import pdb; pdb.set_trace()\n",
    "                            posicao_atual = caminha(posicao_atual, passo, i, j)\n",
    "                            print(\"posicao atualizada: {}\".format(posicao_atual))\n",
    "                        else:\n",
    "                            j += 1\n",
    "                    else:\n",
    "                        j += 1\n",
    "                else:\n",
    "                    i += 1\n",
    "                    break\n",
    "            else:\n",
    "                j += 1\n",
    "    return posicao_atual"
   ]
  },
  {
   "cell_type": "code",
   "execution_count": 30,
   "metadata": {
    "colab": {
     "base_uri": "https://localhost:8080/",
     "height": 416
    },
    "colab_type": "code",
    "id": "rsCNFRPP3OHQ",
    "outputId": "a1966b83-0fba-4ae0-af5a-a19af01ec8a7"
   },
   "outputs": [
    {
     "name": "stdout",
     "output_type": "stream",
     "text": [
      "[   0.  220. 1165. 1615.    0.]\n",
      "0.08363004776378637\n",
      "posicao atualizada: [   0.  210. 1175. 1615.    0.]\n",
      "posicao atualizada: [   0.  200. 1185. 1615.    0.]\n",
      "posicao atualizada: [   0.  190. 1195. 1615.    0.]\n",
      "posicao atualizada: [   0.  180. 1205. 1615.    0.]\n",
      "posicao atualizada: [   0.  170. 1215. 1615.    0.]\n",
      "posicao atualizada: [   0.  160. 1225. 1615.    0.]\n",
      "posicao atualizada: [   0.  150. 1235. 1615.    0.]\n",
      "posicao atualizada: [   0.  140. 1245. 1615.    0.]\n",
      "posicao atualizada: [   0.  130. 1255. 1615.    0.]\n",
      "posicao atualizada: [   0.  120. 1265. 1615.    0.]\n",
      "posicao atualizada: [   0.  110. 1275. 1615.    0.]\n",
      "posicao atualizada: [   0.  100. 1285. 1615.    0.]\n",
      "posicao atualizada: [   0.   90. 1295. 1615.    0.]\n"
     ]
    },
    {
     "ename": "KeyboardInterrupt",
     "evalue": "",
     "output_type": "error",
     "traceback": [
      "\u001b[0;31m---------------------------------------------------------------------------\u001b[0m",
      "\u001b[0;31mKeyboardInterrupt\u001b[0m                         Traceback (most recent call last)",
      "\u001b[0;32m<ipython-input-30-634578d6df4e>\u001b[0m in \u001b[0;36m<module>\u001b[0;34m\u001b[0m\n\u001b[1;32m      1\u001b[0m \u001b[0mprint\u001b[0m\u001b[0;34m(\u001b[0m\u001b[0mf1\u001b[0m\u001b[0;34m.\u001b[0m\u001b[0mx_max\u001b[0m\u001b[0;34m)\u001b[0m\u001b[0;34m\u001b[0m\u001b[0;34m\u001b[0m\u001b[0m\n\u001b[1;32m      2\u001b[0m \u001b[0mprint\u001b[0m\u001b[0;34m(\u001b[0m\u001b[0mmuD_max\u001b[0m\u001b[0;34m(\u001b[0m\u001b[0mF\u001b[0m\u001b[0;34m,\u001b[0m \u001b[0mf1\u001b[0m\u001b[0;34m.\u001b[0m\u001b[0mx_max\u001b[0m\u001b[0;34m)\u001b[0m\u001b[0;34m)\u001b[0m\u001b[0;34m\u001b[0m\u001b[0;34m\u001b[0m\u001b[0m\n\u001b[0;32m----> 3\u001b[0;31m \u001b[0mX\u001b[0m \u001b[0;34m=\u001b[0m \u001b[0mheuristica_relogio\u001b[0m\u001b[0;34m(\u001b[0m\u001b[0mF\u001b[0m\u001b[0;34m,\u001b[0m \u001b[0mf1\u001b[0m\u001b[0;34m.\u001b[0m\u001b[0mx_max\u001b[0m\u001b[0;34m,\u001b[0m \u001b[0mbounds\u001b[0m\u001b[0;34m,\u001b[0m \u001b[0;36m10\u001b[0m\u001b[0;34m)\u001b[0m\u001b[0;34m\u001b[0m\u001b[0;34m\u001b[0m\u001b[0m\n\u001b[0m\u001b[1;32m      4\u001b[0m \u001b[0mprint\u001b[0m\u001b[0;34m(\u001b[0m\u001b[0mX\u001b[0m\u001b[0;34m)\u001b[0m\u001b[0;34m\u001b[0m\u001b[0;34m\u001b[0m\u001b[0m\n\u001b[1;32m      5\u001b[0m \u001b[0mprint\u001b[0m\u001b[0;34m(\u001b[0m\u001b[0mmuD_max\u001b[0m\u001b[0;34m(\u001b[0m\u001b[0mF\u001b[0m\u001b[0;34m,\u001b[0m \u001b[0mX\u001b[0m\u001b[0;34m)\u001b[0m\u001b[0;34m)\u001b[0m\u001b[0;34m\u001b[0m\u001b[0;34m\u001b[0m\u001b[0m\n",
      "\u001b[0;32m<ipython-input-28-baf00e800e36>\u001b[0m in \u001b[0;36mheuristica_relogio\u001b[0;34m(F, posicao_inicial, limites, passo)\u001b[0m\n\u001b[1;32m      9\u001b[0m                 \u001b[0;32mif\u001b[0m \u001b[0mpossivel_subtrair\u001b[0m\u001b[0;34m(\u001b[0m\u001b[0mposicao_atual\u001b[0m\u001b[0;34m[\u001b[0m\u001b[0mi\u001b[0m\u001b[0;34m]\u001b[0m\u001b[0;34m,\u001b[0m \u001b[0mlimites\u001b[0m\u001b[0;34m[\u001b[0m\u001b[0mi\u001b[0m\u001b[0;34m]\u001b[0m\u001b[0;34m,\u001b[0m \u001b[0mpasso\u001b[0m\u001b[0;34m)\u001b[0m\u001b[0;34m:\u001b[0m\u001b[0;34m\u001b[0m\u001b[0;34m\u001b[0m\u001b[0m\n\u001b[1;32m     10\u001b[0m                     \u001b[0;32mif\u001b[0m \u001b[0mpossivel_adicionar\u001b[0m\u001b[0;34m(\u001b[0m\u001b[0mposicao_atual\u001b[0m\u001b[0;34m[\u001b[0m\u001b[0mj\u001b[0m\u001b[0;34m]\u001b[0m\u001b[0;34m,\u001b[0m \u001b[0mlimites\u001b[0m\u001b[0;34m[\u001b[0m\u001b[0mj\u001b[0m\u001b[0;34m]\u001b[0m\u001b[0;34m,\u001b[0m \u001b[0mpasso\u001b[0m\u001b[0;34m)\u001b[0m\u001b[0;34m:\u001b[0m\u001b[0;34m\u001b[0m\u001b[0;34m\u001b[0m\u001b[0m\n\u001b[0;32m---> 11\u001b[0;31m                         \u001b[0;32mif\u001b[0m \u001b[0mpasso_e_melhor\u001b[0m\u001b[0;34m(\u001b[0m\u001b[0mF\u001b[0m\u001b[0;34m,\u001b[0m \u001b[0mposicao_atual\u001b[0m\u001b[0;34m,\u001b[0m \u001b[0mcaminha\u001b[0m\u001b[0;34m(\u001b[0m\u001b[0mposicao_atual\u001b[0m\u001b[0;34m,\u001b[0m \u001b[0mpasso\u001b[0m\u001b[0;34m,\u001b[0m \u001b[0mi\u001b[0m\u001b[0;34m,\u001b[0m \u001b[0mj\u001b[0m\u001b[0;34m)\u001b[0m\u001b[0;34m)\u001b[0m\u001b[0;34m:\u001b[0m\u001b[0;34m\u001b[0m\u001b[0;34m\u001b[0m\u001b[0m\n\u001b[0m\u001b[1;32m     12\u001b[0m                             \u001b[0;31m#import pdb; pdb.set_trace()\u001b[0m\u001b[0;34m\u001b[0m\u001b[0;34m\u001b[0m\u001b[0;34m\u001b[0m\u001b[0m\n\u001b[1;32m     13\u001b[0m                             \u001b[0mposicao_atual\u001b[0m \u001b[0;34m=\u001b[0m \u001b[0mcaminha\u001b[0m\u001b[0;34m(\u001b[0m\u001b[0mposicao_atual\u001b[0m\u001b[0;34m,\u001b[0m \u001b[0mpasso\u001b[0m\u001b[0;34m,\u001b[0m \u001b[0mi\u001b[0m\u001b[0;34m,\u001b[0m \u001b[0mj\u001b[0m\u001b[0;34m)\u001b[0m\u001b[0;34m\u001b[0m\u001b[0;34m\u001b[0m\u001b[0m\n",
      "\u001b[0;32m<ipython-input-23-8c33caabf73d>\u001b[0m in \u001b[0;36mpasso_e_melhor\u001b[0;34m(F, posicao_origem, posicao_destino)\u001b[0m\n\u001b[1;32m     20\u001b[0m \u001b[0;34m\u001b[0m\u001b[0m\n\u001b[1;32m     21\u001b[0m \u001b[0;32mdef\u001b[0m \u001b[0mpasso_e_melhor\u001b[0m\u001b[0;34m(\u001b[0m\u001b[0mF\u001b[0m\u001b[0;34m,\u001b[0m \u001b[0mposicao_origem\u001b[0m\u001b[0;34m,\u001b[0m \u001b[0mposicao_destino\u001b[0m\u001b[0;34m)\u001b[0m\u001b[0;34m:\u001b[0m\u001b[0;34m\u001b[0m\u001b[0;34m\u001b[0m\u001b[0m\n\u001b[0;32m---> 22\u001b[0;31m     \u001b[0;32mreturn\u001b[0m \u001b[0;32mTrue\u001b[0m \u001b[0;32mif\u001b[0m \u001b[0mmuD_max\u001b[0m\u001b[0;34m(\u001b[0m\u001b[0mF\u001b[0m\u001b[0;34m,\u001b[0m \u001b[0mposicao_origem\u001b[0m\u001b[0;34m)\u001b[0m \u001b[0;34m>\u001b[0m \u001b[0mmuD_max\u001b[0m\u001b[0;34m(\u001b[0m\u001b[0mF\u001b[0m\u001b[0;34m,\u001b[0m \u001b[0mposicao_destino\u001b[0m\u001b[0;34m)\u001b[0m \u001b[0;32melse\u001b[0m \u001b[0;32mFalse\u001b[0m\u001b[0;34m\u001b[0m\u001b[0;34m\u001b[0m\u001b[0m\n\u001b[0m",
      "\u001b[0;32m<ipython-input-23-8c33caabf73d>\u001b[0m in \u001b[0;36mmuD_max\u001b[0;34m(F, x)\u001b[0m\n\u001b[1;32m      1\u001b[0m \u001b[0;32mdef\u001b[0m \u001b[0mmuD_max\u001b[0m\u001b[0;34m(\u001b[0m\u001b[0mF\u001b[0m\u001b[0;34m,\u001b[0m \u001b[0mx\u001b[0m\u001b[0;34m)\u001b[0m\u001b[0;34m:\u001b[0m\u001b[0;34m\u001b[0m\u001b[0;34m\u001b[0m\u001b[0m\n\u001b[1;32m      2\u001b[0m     \u001b[0mx\u001b[0m \u001b[0;34m=\u001b[0m \u001b[0mnp\u001b[0m\u001b[0;34m.\u001b[0m\u001b[0marray\u001b[0m\u001b[0;34m(\u001b[0m\u001b[0mx\u001b[0m\u001b[0;34m)\u001b[0m\u001b[0;34m\u001b[0m\u001b[0;34m\u001b[0m\u001b[0m\n\u001b[0;32m----> 3\u001b[0;31m     \u001b[0;32mreturn\u001b[0m \u001b[0mnp\u001b[0m\u001b[0;34m.\u001b[0m\u001b[0mmin\u001b[0m\u001b[0;34m(\u001b[0m\u001b[0;34m[\u001b[0m\u001b[0mf_\u001b[0m\u001b[0;34m.\u001b[0m\u001b[0mmu\u001b[0m\u001b[0;34m(\u001b[0m\u001b[0mx\u001b[0m\u001b[0;34m)\u001b[0m \u001b[0;32mfor\u001b[0m \u001b[0mf_\u001b[0m \u001b[0;32min\u001b[0m \u001b[0mF\u001b[0m\u001b[0;34m]\u001b[0m\u001b[0;34m)\u001b[0m\u001b[0;34m\u001b[0m\u001b[0;34m\u001b[0m\u001b[0m\n\u001b[0m\u001b[1;32m      4\u001b[0m \u001b[0;34m\u001b[0m\u001b[0m\n\u001b[1;32m      5\u001b[0m \u001b[0;34m\u001b[0m\u001b[0m\n",
      "\u001b[0;32m~/anaconda3/lib/python3.6/site-packages/numpy/core/fromnumeric.py\u001b[0m in \u001b[0;36mamin\u001b[0;34m(a, axis, out, keepdims, initial)\u001b[0m\n\u001b[1;32m   2616\u001b[0m     \"\"\"\n\u001b[1;32m   2617\u001b[0m     return _wrapreduction(a, np.minimum, 'min', axis, None, out, keepdims=keepdims,\n\u001b[0;32m-> 2618\u001b[0;31m                           initial=initial)\n\u001b[0m\u001b[1;32m   2619\u001b[0m \u001b[0;34m\u001b[0m\u001b[0m\n\u001b[1;32m   2620\u001b[0m \u001b[0;34m\u001b[0m\u001b[0m\n",
      "\u001b[0;32m~/anaconda3/lib/python3.6/site-packages/numpy/core/fromnumeric.py\u001b[0m in \u001b[0;36m_wrapreduction\u001b[0;34m(obj, ufunc, method, axis, dtype, out, **kwargs)\u001b[0m\n\u001b[1;32m     84\u001b[0m                 \u001b[0;32mreturn\u001b[0m \u001b[0mreduction\u001b[0m\u001b[0;34m(\u001b[0m\u001b[0maxis\u001b[0m\u001b[0;34m=\u001b[0m\u001b[0maxis\u001b[0m\u001b[0;34m,\u001b[0m \u001b[0mout\u001b[0m\u001b[0;34m=\u001b[0m\u001b[0mout\u001b[0m\u001b[0;34m,\u001b[0m \u001b[0;34m**\u001b[0m\u001b[0mpasskwargs\u001b[0m\u001b[0;34m)\u001b[0m\u001b[0;34m\u001b[0m\u001b[0;34m\u001b[0m\u001b[0m\n\u001b[1;32m     85\u001b[0m \u001b[0;34m\u001b[0m\u001b[0m\n\u001b[0;32m---> 86\u001b[0;31m     \u001b[0;32mreturn\u001b[0m \u001b[0mufunc\u001b[0m\u001b[0;34m.\u001b[0m\u001b[0mreduce\u001b[0m\u001b[0;34m(\u001b[0m\u001b[0mobj\u001b[0m\u001b[0;34m,\u001b[0m \u001b[0maxis\u001b[0m\u001b[0;34m,\u001b[0m \u001b[0mdtype\u001b[0m\u001b[0;34m,\u001b[0m \u001b[0mout\u001b[0m\u001b[0;34m,\u001b[0m \u001b[0;34m**\u001b[0m\u001b[0mpasskwargs\u001b[0m\u001b[0;34m)\u001b[0m\u001b[0;34m\u001b[0m\u001b[0;34m\u001b[0m\u001b[0m\n\u001b[0m\u001b[1;32m     87\u001b[0m \u001b[0;34m\u001b[0m\u001b[0m\n\u001b[1;32m     88\u001b[0m \u001b[0;34m\u001b[0m\u001b[0m\n",
      "\u001b[0;31mKeyboardInterrupt\u001b[0m: "
     ]
    }
   ],
   "source": [
    "print(f1.x_max)\n",
    "print(muD_max(F, f1.x_max))\n",
    "X = heuristica_relogio(F, f1.x_max, bounds, 10)\n",
    "print(X)\n",
    "print(muD_max(F, X))"
   ]
  },
  {
   "cell_type": "code",
   "execution_count": 48,
   "metadata": {},
   "outputs": [],
   "source": [
    "class heuristica_relogio(object):\n",
    "    \"\"\"Heurística do relógio\n",
    "    \n",
    "    Utilizada para problemas do tipo max min com condição de balanço.\"\"\"\n",
    "\n",
    "    def __init__(self, F, posicao_inicial, limites, funcao_custo, passo=0.5):\n",
    "        self.__F = F\n",
    "        self.__posicao_atual = posicao_inicial\n",
    "        self.__limites = limites\n",
    "        self.__funcao_custo = funcao_custo\n",
    "        self.__passo = passo\n",
    "        self.__num_vars = len(posicao_inicial)\n",
    "\n",
    "    def __possivel_subtrair(self, posicao, limite):\n",
    "        return True if posicao - self.__passo >= limite[0] else False\n",
    "\n",
    "    def __possivel_adicionar(self, posicao, limite):\n",
    "        return True if posicao + self.__passo <= limite[1] else False\n",
    "\n",
    "    def __passo_e_melhor(self, posicao_origem, posicao_destino):\n",
    "        if self.__funcao_custo(posicao_origem) > self.__funcao_custo(posicao_destino):\n",
    "            return True\n",
    "        else:\n",
    "            return False\n",
    "\n",
    "    def __caminha(self, posicao_origem, subtrair_de, adicionar_em):\n",
    "        posicao_destino = posicao_origem[:]\n",
    "        posicao_destino[subtrair_de] -= self.__passo\n",
    "        posicao_destino[adicionar_em] += self.__passo\n",
    "        return posicao_destino\n",
    "\n",
    "    def __call__(self):\n",
    "        i = 0\n",
    "        print(i)\n",
    "        while i < self.__num_vars:\n",
    "            j = i + 1\n",
    "            while j < self.__num_vars:\n",
    "                if self.__possivel_subtrair(self.__posicao_atual[i], self.__limites[i]):\n",
    "                    if self.__possivel_adicionar(\n",
    "                        self.__posicao_atual[j], self.__limites[j]\n",
    "                    ):\n",
    "                        if self.__passo_e_melhor(\n",
    "                            self.__posicao_atual, self.__caminha(posicao_atual, i, j)\n",
    "                        ):\n",
    "                            self.__posicao_atual = self.__caminha(posicao_atual, i, j)\n",
    "                        else:\n",
    "                            j = j + 1\n",
    "                    else:\n",
    "                        j = j + 1\n",
    "                else:\n",
    "                    i = i + 1\n",
    "                    break\n",
    "        return self.__posicao_atual  # , self.__funcao_custo(self.__posicao_atual)\n",
    "\n",
    "    # def __call__(self):\n",
    "    # return self.otimizar"
   ]
  },
  {
   "cell_type": "code",
   "execution_count": 49,
   "metadata": {},
   "outputs": [],
   "source": [
    "otimizar = heuristica_relogio(F, f1.x_max, bounds, muD_max)"
   ]
  },
  {
   "cell_type": "code",
   "execution_count": 50,
   "metadata": {},
   "outputs": [
    {
     "data": {
      "text/plain": [
       "<__main__.heuristica_relogio at 0x1021414160>"
      ]
     },
     "execution_count": 50,
     "metadata": {},
     "output_type": "execute_result"
    }
   ],
   "source": [
    "otimizar"
   ]
  },
  {
   "cell_type": "code",
   "execution_count": 51,
   "metadata": {},
   "outputs": [
    {
     "data": {
      "text/plain": [
       "__main__.heuristica_relogio"
      ]
     },
     "execution_count": 51,
     "metadata": {},
     "output_type": "execute_result"
    }
   ],
   "source": [
    "otimizar."
   ]
  },
  {
   "cell_type": "code",
   "execution_count": null,
   "metadata": {},
   "outputs": [],
   "source": []
  }
 ],
 "metadata": {
  "accelerator": "GPU",
  "colab": {
   "include_colab_link": true,
   "name": "trabalho_final.ipynb",
   "provenance": [],
   "version": "0.3.2"
  },
  "kernelspec": {
   "display_name": "Python 3",
   "language": "python",
   "name": "python3"
  },
  "language_info": {
   "codemirror_mode": {
    "name": "ipython",
    "version": 3
   },
   "file_extension": ".py",
   "mimetype": "text/x-python",
   "name": "python",
   "nbconvert_exporter": "python",
   "pygments_lexer": "ipython3",
   "version": "3.6.8"
  }
 },
 "nbformat": 4,
 "nbformat_minor": 1
}
