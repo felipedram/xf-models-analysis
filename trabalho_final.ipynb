{
 "cells": [
  {
   "cell_type": "code",
   "execution_count": 2,
   "metadata": {},
   "outputs": [],
   "source": [
    "import numpy as np\n",
    "import scipy.optimize as opt"
   ]
  },
  {
   "cell_type": "code",
   "execution_count": 8,
   "metadata": {},
   "outputs": [],
   "source": [
    "def f1 (X):\n",
    "    X = np.array(x)\n",
    "    C = [0.06, 0.53, 0.18, 0.18, 0.06]\n",
    "    return X.dot(C)\n",
    "\n",
    "def f2 (X):\n",
    "    X = np.array(x)\n",
    "    C = [25, 70, 60, 95, 45]\n",
    "    return X.dot(C)\n",
    "\n",
    "def f3 (X):\n",
    "    X = np.array(x)\n",
    "    C = [0, 32.5, 300, 120, 0]\n",
    "    return X.dot(C)\n",
    "\n",
    "def f4 (X):\n",
    "    X = np.array(x)\n",
    "    C = [0.1, 0.1, 0.11, 0.35, 0.33]\n",
    "    return X.dot(C)"
   ]
  },
  {
   "cell_type": "code",
   "execution_count": 11,
   "metadata": {},
   "outputs": [],
   "source": [
    "linear_constraint = opt.LinearConstraint([1, 1, 1, 1, 1], 0, 3000)\n",
    "bounds = opt.Bounds([0, 0, 0, 0, 0], [850, 220, 1300, 1615, 700])"
   ]
  },
  {
   "cell_type": "code",
   "execution_count": 16,
   "metadata": {},
   "outputs": [
    {
     "name": "stderr",
     "output_type": "stream",
     "text": [
      "/Users/feliperamalho/anaconda3/lib/python3.6/site-packages/scipy/optimize/_minimize.py:518: RuntimeWarning: Method Powell cannot handle constraints nor bounds.\n",
      "  RuntimeWarning)\n"
     ]
    },
    {
     "data": {
      "text/plain": [
       "   direc: array([[1., 0., 0., 0., 0.],\n",
       "       [0., 1., 0., 0., 0.],\n",
       "       [0., 0., 1., 0., 0.],\n",
       "       [0., 0., 0., 1., 0.],\n",
       "       [0., 0., 0., 0., 1.]])\n",
       "     fun: 1.01\n",
       " message: 'Optimization terminated successfully.'\n",
       "    nfev: 61\n",
       "     nit: 1\n",
       "  status: 0\n",
       " success: True\n",
       "       x: array([2.58792896, 2.58792896, 2.58792896, 2.58792896, 2.58792896])"
      ]
     },
     "execution_count": 16,
     "metadata": {},
     "output_type": "execute_result"
    }
   ],
   "source": [
    "opt.minimize(f1, [0, 0, 0, 0, 0], method=\"Powell\", bounds=bounds, constraints=linear_constraint)"
   ]
  },
  {
   "cell_type": "code",
   "execution_count": null,
   "metadata": {},
   "outputs": [],
   "source": []
  }
 ],
 "metadata": {
  "kernelspec": {
   "display_name": "Python 3",
   "language": "python",
   "name": "python3"
  },
  "language_info": {
   "codemirror_mode": {
    "name": "ipython",
    "version": 3
   },
   "file_extension": ".py",
   "mimetype": "text/x-python",
   "name": "python",
   "nbconvert_exporter": "python",
   "pygments_lexer": "ipython3",
   "version": "3.6.6"
  }
 },
 "nbformat": 4,
 "nbformat_minor": 2
}
