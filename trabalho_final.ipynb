{
 "cells": [
  {
   "cell_type": "code",
   "execution_count": 1,
   "metadata": {},
   "outputs": [],
   "source": [
    "import numpy as np\n",
    "import scipy.optimize as opt"
   ]
  },
  {
   "cell_type": "code",
   "execution_count": 2,
   "metadata": {},
   "outputs": [],
   "source": [
    "class f(object):\n",
    "    def __init__(self, solver, goal):\n",
    "        self.__solver = solver\n",
    "        if goal == \"max\" or goal == \"min\":\n",
    "            self.__goal = goal\n",
    "        else:\n",
    "            raise Exception(\"goal deve ser 'max' ou 'min'.\")\n",
    "        self.__f_max = None\n",
    "        self.__x_max = None\n",
    "        self.__f_min = None\n",
    "        self.__x_min = None\n",
    "\n",
    "    @property\n",
    "    def goal(self):\n",
    "        return self.__goal\n",
    "\n",
    "    @property\n",
    "    def f_max(self):\n",
    "        return self.__f_max\n",
    "\n",
    "    @f_max.setter\n",
    "    def f_max(self, f_max):\n",
    "        self.__f_max = f_max\n",
    "\n",
    "    @property\n",
    "    def x_max(self):\n",
    "        return self.__x_max\n",
    "\n",
    "    @x_max.setter\n",
    "    def x_max(self, x_max):\n",
    "        self.__x_max = x_max\n",
    "\n",
    "    @property\n",
    "    def f_min(self):\n",
    "        return self.__f_min\n",
    "\n",
    "    @f_max.setter\n",
    "    def f_min(self, f_min):\n",
    "        self.__f_min = f_min\n",
    "\n",
    "    @property\n",
    "    def x_min(self):\n",
    "        return self.__x_min\n",
    "\n",
    "    @x_min.setter\n",
    "    def x_min(self, x_min):\n",
    "        self.__x_min = x_min\n",
    "\n",
    "    def solve(self, x, inv=False):\n",
    "        x = np.array(x)\n",
    "        return self.__solver(x) * -1 if inv else self.__solver(x)\n",
    "\n",
    "    def mu(self, x):\n",
    "        x = np.array(x)\n",
    "        if self.__goal == \"max\":\n",
    "            return (self.solve(x) - self.__f_min) / (self.__f_max - self.__f_min)\n",
    "        elif self.__goal == \"min\":\n",
    "            return (self.__f_max - self.solve(x)) / (self.__f_max - self.__f_min)"
   ]
  },
  {
   "cell_type": "code",
   "execution_count": 3,
   "metadata": {},
   "outputs": [],
   "source": [
    "class f_linear(f):\n",
    "    def __init__(self, coefs, goal):\n",
    "        self.__coefs = np.array(coefs)\n",
    "        f.__init__(self, lambda x: np.dot(self.__coefs, x), goal)\n",
    "\n",
    "    @property\n",
    "    def coefs(self):\n",
    "        return self.__coefs"
   ]
  },
  {
   "cell_type": "code",
   "execution_count": 4,
   "metadata": {},
   "outputs": [],
   "source": [
    "f1 = f_linear([0.06, 0.53, 0.18, 0.18, 0.06], \"max\")\n",
    "f2 = f_linear([25, 70, 60, 95, 45], \"max\")\n",
    "f3 = f_linear([0, 32.5, 300, 120, 0], \"min\")\n",
    "f4 = f_linear([0.1, 0.1, 0.11, 0.35, 0.33], \"min\")"
   ]
  },
  {
   "cell_type": "code",
   "execution_count": 5,
   "metadata": {},
   "outputs": [],
   "source": [
    "A_eq = np.array([[1, 1, 1, 1, 1]])\n",
    "b_eq = np.array([3000])\n",
    "x0_bounds = (0, 850)\n",
    "x1_bounds = (0, 220)\n",
    "x2_bounds = (0, 1300)\n",
    "x3_bounds = (0, 1615)\n",
    "x4_bounds = (0, 700)"
   ]
  },
  {
   "cell_type": "code",
   "execution_count": 6,
   "metadata": {},
   "outputs": [],
   "source": [
    "F = [f1, f2, f3, f4]\n",
    "bounds = [x0_bounds, x1_bounds, x2_bounds, x3_bounds, x4_bounds]"
   ]
  },
  {
   "cell_type": "code",
   "execution_count": 7,
   "metadata": {},
   "outputs": [],
   "source": [
    "from scipy.optimize import linprog\n",
    "import warnings\n",
    "\n",
    "for f_ in F:\n",
    "    res = linprog(f_.coefs * -1, A_eq=A_eq, b_eq=b_eq, bounds=bounds)\n",
    "    if res.success:\n",
    "        f_.f_max = -1 * res.fun\n",
    "        f_.x_max = res.x\n",
    "    else:\n",
    "        warn(\"Otimização de {} mal sucedida.\").format(f_)"
   ]
  },
  {
   "cell_type": "code",
   "execution_count": 35,
   "metadata": {},
   "outputs": [],
   "source": [
    "for f_ in F:\n",
    "    res = linprog(f_.coefs, A_eq=A_eq, b_eq=b_eq, bounds=bounds)\n",
    "    if res.success:\n",
    "        f_.f_min = res.fun\n",
    "        f_.x_min = res.x\n",
    "    else:\n",
    "        warn(\"Otimização de {} mal sucedida.\").format(f_)"
   ]
  },
  {
   "cell_type": "code",
   "execution_count": 11,
   "metadata": {},
   "outputs": [],
   "source": [
    "def mu_D(x, F):\n",
    "    x = np.array(x)\n",
    "    return min([f_.mu(x) for f_ in F])"
   ]
  },
  {
   "cell_type": "code",
   "execution_count": 12,
   "metadata": {},
   "outputs": [],
   "source": [
    "fora_do_limite = max([f_.f_max for f_ in F]) + 10000"
   ]
  },
  {
   "cell_type": "code",
   "execution_count": 30,
   "metadata": {},
   "outputs": [],
   "source": [
    "def fun_para_diff_evol(x, F, A_eq, b_eq, fora_do_limite):\n",
    "    A_eq = np.array(A_eq)\n",
    "    x = np.array(x)*-1\n",
    "    return mu_D(x, F) if np.dot(x, A_eq) == b_eq else fora_do_limite"
   ]
  },
  {
   "cell_type": "code",
   "execution_count": 31,
   "metadata": {},
   "outputs": [
    {
     "data": {
      "text/plain": [
       "     fun: 596562.5\n",
       " message: 'Optimization terminated successfully.'\n",
       "    nfev: 156\n",
       "     nit: 1\n",
       " success: True\n",
       "       x: array([ 32.48393975,  47.14971031, 138.74519826, 294.72577509,\n",
       "       372.0619696 ])"
      ]
     },
     "execution_count": 31,
     "metadata": {},
     "output_type": "execute_result"
    }
   ],
   "source": [
    "args = (F, A_eq[0], b_eq, fora_do_limite)\n",
    "opt.differential_evolution(fun_para_diff_evol, bounds, args=args)"
   ]
  },
  {
   "cell_type": "code",
   "execution_count": 37,
   "metadata": {},
   "outputs": [
    {
     "name": "stdout",
     "output_type": "stream",
     "text": [
      "617.0\n",
      "238725.0\n",
      "586562.5\n",
      "871.5999999999999\n"
     ]
    },
    {
     "data": {
      "text/plain": [
       "[None, None, None, None]"
      ]
     },
     "execution_count": 37,
     "metadata": {},
     "output_type": "execute_result"
    }
   ],
   "source": [
    "[print (f_.f_max) for f_ in F]"
   ]
  },
  {
   "cell_type": "code",
   "execution_count": 36,
   "metadata": {},
   "outputs": [
    {
     "name": "stdout",
     "output_type": "stream",
     "text": [
      "617.0\n",
      "238725.0\n",
      "586562.5\n",
      "871.5999999999999\n"
     ]
    },
    {
     "data": {
      "text/plain": [
       "[None, None, None, None]"
      ]
     },
     "execution_count": 36,
     "metadata": {},
     "output_type": "execute_result"
    }
   ],
   "source": [
    "[print (f_.f_min) for f_ in F]"
   ]
  },
  {
   "cell_type": "code",
   "execution_count": null,
   "metadata": {},
   "outputs": [],
   "source": []
  }
 ],
 "metadata": {
  "kernelspec": {
   "display_name": "Python 3",
   "language": "python",
   "name": "python3"
  },
  "language_info": {
   "codemirror_mode": {
    "name": "ipython",
    "version": 3
   },
   "file_extension": ".py",
   "mimetype": "text/x-python",
   "name": "python",
   "nbconvert_exporter": "python",
   "pygments_lexer": "ipython3",
   "version": "3.6.8"
  }
 },
 "nbformat": 4,
 "nbformat_minor": 2
}
