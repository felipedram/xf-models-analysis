{
  "nbformat": 4,
  "nbformat_minor": 0,
  "metadata": {
    "colab": {
      "name": "trabalho_final.ipynb",
      "version": "0.3.2",
      "provenance": [],
      "include_colab_link": true
    },
    "language_info": {
      "codemirror_mode": {
        "name": "ipython",
        "version": 3
      },
      "file_extension": ".py",
      "mimetype": "text/x-python",
      "name": "python",
      "nbconvert_exporter": "python",
      "pygments_lexer": "ipython3",
      "version": "3.6.8"
    },
    "kernelspec": {
      "name": "python3",
      "display_name": "Python 3"
    },
    "accelerator": "GPU"
  },
  "cells": [
    {
      "cell_type": "markdown",
      "metadata": {
        "id": "view-in-github",
        "colab_type": "text"
      },
      "source": [
        "<a href=\"https://colab.research.google.com/github/felipedram/xf-models-analysis/blob/master/trabalho_final.ipynb\" target=\"_parent\"><img src=\"https://colab.research.google.com/assets/colab-badge.svg\" alt=\"Open In Colab\"/></a>"
      ]
    },
    {
      "cell_type": "code",
      "metadata": {
        "id": "8OLliwhH50NP",
        "colab_type": "code",
        "colab": {}
      },
      "source": [
        "import numpy as np\n",
        "import scipy.optimize as opt"
      ],
      "execution_count": 0,
      "outputs": []
    },
    {
      "cell_type": "code",
      "metadata": {
        "id": "VNuasvci50N8",
        "colab_type": "code",
        "colab": {}
      },
      "source": [
        "class f(object):\n",
        "    def __init__(self, solver, goal):\n",
        "        self.__solver = solver\n",
        "        if goal == \"max\" or goal == \"min\":\n",
        "            self.__goal = goal\n",
        "        else:\n",
        "            raise Exception(\"goal deve ser 'max' ou 'min'.\")\n",
        "        self.__f_max = None\n",
        "        self.__x_max = None\n",
        "        self.__f_min = None\n",
        "        self.__x_min = None\n",
        "\n",
        "    @property\n",
        "    def goal(self):\n",
        "        return self.__goal\n",
        "\n",
        "    @property\n",
        "    def f_max(self):\n",
        "        return self.__f_max\n",
        "\n",
        "    @f_max.setter\n",
        "    def f_max(self, f_max):\n",
        "        self.__f_max = f_max\n",
        "\n",
        "    @property\n",
        "    def x_max(self):\n",
        "        return self.__x_max\n",
        "\n",
        "    @x_max.setter\n",
        "    def x_max(self, x_max):\n",
        "        self.__x_max = x_max\n",
        "\n",
        "    @property\n",
        "    def f_min(self):\n",
        "        return self.__f_min\n",
        "\n",
        "    @f_max.setter\n",
        "    def f_min(self, f_min):\n",
        "        self.__f_min = f_min\n",
        "\n",
        "    @property\n",
        "    def x_min(self):\n",
        "        return self.__x_min\n",
        "\n",
        "    @x_min.setter\n",
        "    def x_min(self, x_min):\n",
        "        self.__x_min = x_min\n",
        "\n",
        "    def solve(self, x, inv=False):\n",
        "        x = np.array(x)\n",
        "        return self.__solver(x) * -1 if inv else self.__solver(x)\n",
        "\n",
        "    def mu(self, x):\n",
        "        x = np.array(x)\n",
        "        if self.__goal == \"max\":\n",
        "            return (self.solve(x) - self.__f_min) / (self.__f_max - self.__f_min)\n",
        "        elif self.__goal == \"min\":\n",
        "            return (self.__f_max - self.solve(x)) / (self.__f_max - self.__f_min)"
      ],
      "execution_count": 0,
      "outputs": []
    },
    {
      "cell_type": "code",
      "metadata": {
        "id": "-sjtji-n50OU",
        "colab_type": "code",
        "colab": {}
      },
      "source": [
        "class f_linear(f):\n",
        "    def __init__(self, coefs, goal):\n",
        "        self.__coefs = np.array(coefs)\n",
        "        f.__init__(self, lambda x: np.dot(self.__coefs, x), goal)\n",
        "\n",
        "    @property\n",
        "    def coefs(self):\n",
        "        return self.__coefs"
      ],
      "execution_count": 0,
      "outputs": []
    },
    {
      "cell_type": "code",
      "metadata": {
        "id": "eYe8trpe50Ou",
        "colab_type": "code",
        "colab": {}
      },
      "source": [
        "f1 = f_linear([0.06, 0.53, 0.18, 0.18, 0.06], \"max\")\n",
        "f2 = f_linear([25, 70, 60, 95, 45], \"max\")\n",
        "f3 = f_linear([0, 32.5, 300, 120, 0], \"min\")\n",
        "f4 = f_linear([0.1, 0.1, 0.11, 0.35, 0.33], \"min\")"
      ],
      "execution_count": 0,
      "outputs": []
    },
    {
      "cell_type": "code",
      "metadata": {
        "id": "LDSD_y8p50PG",
        "colab_type": "code",
        "colab": {}
      },
      "source": [
        "A_eq = np.array([[1, 1, 1, 1, 1]])\n",
        "b_eq = np.array([3000])\n",
        "x0_bounds = (0, 850)\n",
        "x1_bounds = (0, 220)\n",
        "x2_bounds = (0, 1300)\n",
        "x3_bounds = (0, 1615)\n",
        "x4_bounds = (0, 700)"
      ],
      "execution_count": 0,
      "outputs": []
    },
    {
      "cell_type": "code",
      "metadata": {
        "id": "0twA0TCk50PY",
        "colab_type": "code",
        "colab": {}
      },
      "source": [
        "F = [f1, f2, f3, f4]\n",
        "bounds = [x0_bounds, x1_bounds, x2_bounds, x3_bounds, x4_bounds]"
      ],
      "execution_count": 0,
      "outputs": []
    },
    {
      "cell_type": "code",
      "metadata": {
        "id": "QJI5pDXX50Pq",
        "colab_type": "code",
        "colab": {}
      },
      "source": [
        "from scipy.optimize import linprog\n",
        "import warnings\n",
        "\n",
        "for f_ in F:\n",
        "    res = linprog(f_.coefs * -1, A_eq=A_eq, b_eq=b_eq, bounds=bounds, method='simplex')\n",
        "    if res.success:\n",
        "        f_.f_max = -1 * res.fun\n",
        "        f_.x_max = res.x\n",
        "    else:\n",
        "        warnings.warn(\"Otimização mal sucedida.\")"
      ],
      "execution_count": 0,
      "outputs": []
    },
    {
      "cell_type": "code",
      "metadata": {
        "id": "0ZmVK8ua50P8",
        "colab_type": "code",
        "colab": {}
      },
      "source": [
        "for f_ in F:\n",
        "    res = linprog(f_.coefs, A_eq=A_eq, b_eq=b_eq, bounds=bounds, method='simplex')\n",
        "    if res.success:\n",
        "        f_.f_min = res.fun\n",
        "        f_.x_min = res.x\n",
        "    else:\n",
        "        warnings.warn(\"Otimização mal sucedida.\")"
      ],
      "execution_count": 0,
      "outputs": []
    },
    {
      "cell_type": "code",
      "metadata": {
        "id": "gno6mkRm50QS",
        "colab_type": "code",
        "colab": {}
      },
      "source": [
        "def mu_D(x, F):\n",
        "    x = np.array(x)\n",
        "    return max([f_.mu(x) for f_ in F])"
      ],
      "execution_count": 0,
      "outputs": []
    },
    {
      "cell_type": "code",
      "metadata": {
        "id": "SDWKf6Qn50Qo",
        "colab_type": "code",
        "colab": {}
      },
      "source": [
        "def basinhopping_bounds(**kwargs):\n",
        "    x = kwargs[\"x_new\"]\n",
        "    resp = True\n",
        "    if np.dot(x, A_eq[0]) != b_eq[0]:\n",
        "        resp = False\n",
        "    if x[0] < x0_bounds[0] or x[0] > x0_bounds[1]:\n",
        "        resp = False\n",
        "    if x[1] < x1_bounds[0] or x[1] > x1_bounds[1]:\n",
        "        resp = False\n",
        "    if x[2] < x2_bounds[0] or x[2] > x2_bounds[1]:\n",
        "        resp = False\n",
        "    if x[3] < x3_bounds[0] or x[3] > x3_bounds[1]:\n",
        "        resp = False\n",
        "    if x[4] < x4_bounds[0] or x[4] > x4_bounds[1]:\n",
        "        resp = False\n",
        "    return resp\n",
        "\n",
        "\n",
        "\n",
        "cobyla_constraints = [\n",
        "    {\"type\": \"ineq\", \"fun\": lambda x: x[0]},\n",
        "    {\"type\": \"ineq\", \"fun\": lambda x: x0_bounds[1] - x[0]},\n",
        "    {\"type\": \"ineq\", \"fun\": lambda x: x[1]},\n",
        "    {\"type\": \"ineq\", \"fun\": lambda x: x1_bounds[1] - x[1]},\n",
        "    {\"type\": \"ineq\", \"fun\": lambda x: x[2]},\n",
        "    {\"type\": \"ineq\", \"fun\": lambda x: x2_bounds[1] - x[2]},\n",
        "    {\"type\": \"ineq\", \"fun\": lambda x: x[3]},\n",
        "    {\"type\": \"ineq\", \"fun\": lambda x: x3_bounds[1] - x[3]},\n",
        "    {\"type\": \"ineq\", \"fun\": lambda x: x[4]},\n",
        "    {\"type\": \"ineq\", \"fun\": lambda x: x4_bounds[1] - x[4]},\n",
        "    {\"type\": \"eq\", \"fun\": lambda x: np.dot(x, A_eq[0]) - b_eq[0]},\n",
        "]"
      ],
      "execution_count": 0,
      "outputs": []
    },
    {
      "cell_type": "code",
      "metadata": {
        "id": "nU0SllIy50RS",
        "colab_type": "code",
        "colab": {}
      },
      "source": [
        "minimizer_kwargs = {\"args\": F, \"method\": \"SLSQP\", \"constraints\": cobyla_constraints}\n",
        "res1 = opt.basinhopping(\n",
        "    mu_D,\n",
        "    f1.x_max,\n",
        "    minimizer_kwargs=minimizer_kwargs,\n",
        "    accept_test=basinhopping_bounds,\n",
        "    disp=False,\n",
        ")\n",
        "res2 = opt.basinhopping(\n",
        "    mu_D,\n",
        "    f2.x_max,\n",
        "    minimizer_kwargs=minimizer_kwargs,\n",
        "    accept_test=basinhopping_bounds,\n",
        "    disp=False,\n",
        ")\n",
        "res3 = opt.basinhopping(\n",
        "    mu_D,\n",
        "    f3.x_max,\n",
        "    minimizer_kwargs=minimizer_kwargs,\n",
        "    accept_test=basinhopping_bounds,\n",
        "    disp=False,\n",
        ")\n",
        "res4 = opt.basinhopping(\n",
        "    mu_D,\n",
        "    f4.x_max,\n",
        "    minimizer_kwargs=minimizer_kwargs,\n",
        "    accept_test=basinhopping_bounds,\n",
        "    disp=False,\n",
        ")"
      ],
      "execution_count": 0,
      "outputs": []
    },
    {
      "cell_type": "code",
      "metadata": {
        "id": "Fnbzf2Ua50R6",
        "colab_type": "code",
        "colab": {
          "base_uri": "https://localhost:8080/",
          "height": 164
        },
        "outputId": "51f65aff-5f71-4453-900e-c7cdaf2ce474"
      },
      "source": [
        "print(res1.x)\n",
        "print(res2.x)\n",
        "print(res3.x)\n",
        "print(res4.x)\n"
      ],
      "execution_count": 34,
      "outputs": [
        {
          "output_type": "stream",
          "text": [
            "[5.15183939e+02 3.19403823e-04 9.33099614e+02 9.30816656e+02\n",
            " 6.20899473e+02]\n",
            "[4.26481693e+00 2.19077206e+02 1.16260195e+03 1.61384701e+03\n",
            " 2.09019015e-01]\n",
            "[2.28927783e+00 8.39487484e+01 1.29874799e+03 1.61392016e+03\n",
            " 1.09382866e+00]\n",
            "[2.53148329e+00 1.18538608e+00 6.83137165e+02 1.61314597e+03\n",
            " 7.00000000e+02]\n"
          ],
          "name": "stdout"
        }
      ]
    },
    {
      "cell_type": "code",
      "metadata": {
        "id": "LFXcKY6BqLc5",
        "colab_type": "code",
        "colab": {}
      },
      "source": [
        ""
      ],
      "execution_count": 0,
      "outputs": []
    }
  ]
}