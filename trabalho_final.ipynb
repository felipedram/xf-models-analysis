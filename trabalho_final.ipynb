{
  "nbformat": 4,
  "nbformat_minor": 0,
  "metadata": {
    "colab": {
      "name": "trabalho_final.ipynb",
      "version": "0.3.2",
      "provenance": [],
      "include_colab_link": true
    },
    "language_info": {
      "codemirror_mode": {
        "name": "ipython",
        "version": 3
      },
      "file_extension": ".py",
      "mimetype": "text/x-python",
      "name": "python",
      "nbconvert_exporter": "python",
      "pygments_lexer": "ipython3",
      "version": "3.6.8"
    },
    "kernelspec": {
      "display_name": "Python 3",
      "language": "python",
      "name": "python3"
    },
    "accelerator": "GPU"
  },
  "cells": [
    {
      "cell_type": "markdown",
      "metadata": {
        "id": "view-in-github",
        "colab_type": "text"
      },
      "source": [
        "<a href=\"https://colab.research.google.com/github/felipedram/xf-models-analysis/blob/master/trabalho_final.ipynb\" target=\"_parent\"><img src=\"https://colab.research.google.com/assets/colab-badge.svg\" alt=\"Open In Colab\"/></a>"
      ]
    },
    {
      "cell_type": "markdown",
      "metadata": {
        "colab_type": "text",
        "id": "jbafUdSFttaH"
      },
      "source": [
        "[Funções para teste](http://delta.cs.cinvestav.mx/~ccoello/EMOO/testfuncs/)<br>\n",
        "[Documentação basin-hopping](https://docs.scipy.org/doc/scipy/reference/generated/scipy.optimize.basinhopping.html#scipy.optimize.basinhopping)<br>\n",
        "[Documentação minimize](https://docs.scipy.org/doc/scipy/reference/generated/scipy.optimize.minimize.html)<br>\n",
        "[Basin-Hopping Paper](https://arxiv.org/pdf/cond-mat/9803344.pdf)<br>\n",
        "[Stochastic Gradient Descent Towards Data Science](https://towardsdatascience.com/gradient-descent-in-python-a0d07285742f)<br>\n",
        "[Stochastic Gradient Descent](https://www.pyimagesearch.com/2016/10/17/stochastic-gradient-descent-sgd-with-python/)\n",
        "[StatQuest Gradient Descent](https://www.youtube.com/watch?v=sDv4f4s2SB8)<br>\n",
        "[StatQuest Stochastic Gradient Descent](https://www.youtube.com/watch?v=vMh0zPT0tLI)"
      ]
    },
    {
      "cell_type": "markdown",
      "metadata": {
        "id": "zyw8R1DFeniE",
        "colab_type": "text"
      },
      "source": [
        "Em \\cite{Ekel2002} foram introduzidos os modelos $\\langle X,R \\rangle$ e $\\langle X,F \\rangle$ como uma forma de lidar com as incertezas inerentes ao processo de tomada de decisão multicritério, utilizando a teoria de conjuntos fuzzy. O primeiro é aplicado a problemas multicritério e, o segundo, a problemas multiobjetivo. Para análise dos modelos, o autor utilizara a abordagem Bellman-Zadeh, técnicas de relação de preferência *fuzzy* e introduziu o conceito de solução harmoniosa. Nas seções a seguir, vamos explorar o modelo $\\langle X,F \\rangle$, falando sobre as motivações que levaram a sua proposição, discutindo suas características e exemplificando sua aplicação.\n",
        "\n",
        "## Introdução\n",
        "\n",
        "### Otimização multiobjetivo\n",
        "\n",
        "De maneira bastante rasa, estamos diante de um problema de otimização matemática quando temos uma função $f(X)$ e queremos encontrar o $X$ que *maximiza* ou *minimiza* seu resultado. À essa função, chamamos de Função Objetivo (FO) e, matematicamente, escrevemos\n",
        "\n",
        "$$\n",
        "\\begin{equation}\n",
        "    f(X) \\rightarrow extr,\n",
        "\\end{equation}\n",
        "$$\n",
        "onde extr significa extremo, indicando que queremos levar essa função a um dos extremos (máximo ou mínimo).\n",
        "\n",
        "Normalmente, esse tipo de problema possui restrições, de tal maneira que não pode ser aceito qualquer valor de $X$. Assim, aos valores aceitáveis para $X$, dá-se o nome de conjunto das soluções permissíveis, ou região das soluções factíveis, ou espaço de busca, ou $L$, simplesmente. Dentre os possíveis valores de $X$ ($X \\in L$), àquele que leva $f(X)$ ao extemo, chamamos de $X^*$ (alguns autores também chamam de $X^0$).\n",
        "\n",
        "Agora imagine um problema em que, ao invés de uma, temos algumas (2, 3, 4, ...) FOs. Ou seja, temos um conjunto (ou vetor) $F(X) = \\{f_0(X), f_1(X), f_2(X), ...\\}$ e queremos encontrar $X^*$. Ou seja, um único $X$ que maximiza (ou minimiza) todas as FOs ao mesmo tempo e que, assim como no primeiro problema, está sujeito a uma série de regras/restrições. Este é um problema de *otimização multiobjetivo* que escrevemos como\n",
        "\n",
        "$$\n",
        "\\begin{equation}\n",
        "    F(X) \\rightarrow extr \\text{.}\n",
        "\\end{equation}\n",
        "$$\n",
        "\n",
        "Certamente, encontrar esse $X^*$ não é tarefa fácil, principalmente porque, normalmente, as FOs são conflitantes. Então, há que se discutir questões como normalização, princípios de otimalidade e prioridades dos critérios. A solução dessas questões passa por técnicas de escalarização, imposição das restrições, método da função utilidade, programação de metas e utilização do princípio da garantia do resultado. O autor de \\cite{Ekel2002}, indica como muito importante uma especial atenção para a utiliação do princípio da garantia do resultado, assim como uma lacuna na definição de \"solução ótima\". Para tratar dessas questões, Ekel propôs a aplicação da abordagem Bellman-Zadeh. Nas seções a seguir vamos implementar e discutir algumas aplicações da abordagem proposta em XX, bem como alguns prós e pontos de atenção para utilização do método.\n",
        "\n",
        "### Modelo $\\langle X,F \\rangle$ e a Abordagem de Bellman-Zadeh\n",
        "\n",
        "Em problemas de otimização multiobjetivo, ou problemas do tipo (2), não existe uma única solução que otimize a todos os objetivos simultaneamente. Nesses casos, falamos em soluções ótimas de Pareto: quando não é mais possível melhorar o valor de uma FO sem degradar o valor das demais e/ou sem acréscimo de novas informações. Essas soluções também são conhecidas como soluções não-dominadas, ótimas de Pareto, Pareto eficientes ou não-inferiores. Todas as soluções da *fronteira de Pareto*, que aqui chamaremos de $\\Omega$, são consideradas igualmente boas. Agora, imagine que você é um profissional contratado para resolver um problema de otimização multiobjetivo. O que seu cliente diria se, como resultado de meses de trabalho, você entregasse a ele um conjunto infinito (ou finito incontável) de soluções?\n",
        "\n",
        "Foi pensando em tratar essa questão, sem descartar a necessidade de se observar todas as outras citadas anteriormente (normalização, otimalidade, etc.), que Ekel propôs o modelo $\\langle X,F \\rangle$ e a utilização da abordagem Bellman-Zadeh para sua análise. A ideia central da proposta é associar, para cada FO, um número *fuzzy* $\\{ X, \\mu_{A}(X) \\}$. Esse número *fuzzy* funciona como uma \"nota\" para cada $X \\in L$ e indica o grau de pertinência desse $X$ à melhor solução possível para aquela FO --- ou o grau de pertinência de $X$ ao $extr$ daquela FO.\n",
        "\n",
        "Como função de pertinência, ou seja, para o cálculo dessa nota, Ekel propôs\n",
        "\n",
        "$$\n",
        "\t\\begin{equation}\n",
        "\t\t\\mu_{A_{p}}(X)=\\Bigg[\\frac{f_p(X)-\\underset{X \\in L}\\min{f_p(X)}}{\\underset{X \\in L}\\max{f_p(X)}-\\underset{X \\in L}\\min{f_p(X)}}\\Bigg]\n",
        "\t\\end{equation}\n",
        "$$\n",
        "para FO a serem maximizadas e\n",
        "$$\n",
        "\t\\begin{equation}\n",
        "\t\t\\mu_{A_{p}}(X)=\\Bigg[\\frac{\\underset{X \\in L}\\max{f_p(X)}-f_p(X)}{\\underset{X \\in L}\\max{f_p(X)}-\\underset{X \\in L}\\min{f_p(X)}}\\Bigg]\n",
        "\t\\end{equation}\n",
        "$$\n",
        "para FO a serem minimizadas. Ekel também definiu que, dado um vetor $F$ de FOs, seus respectivos $\\mu_A$ formam um vetor $\\mu_D$.\n",
        "\n",
        "Dito isso, imagine que temos um problema com 4 FOs. Utilizando a notação de (2), temos: $F(X) = \\{f_0(X), f_1(X), f_2(X), f_3(X)\\}$ --- vamos começar a contar em zero para nos adequarmos à linguagem Python. Se um ponto $X_i$ qualquer atende às FOs em um nível $\\mu_D(X_i) = \\{0.3, 0.5, 0.7, 0.4\\}$ e outro ponto $X_j$ atende às FOs em um nível $\\mu_D(X_j) = \\{0.4, 0.5, 0.7, 0.6\\}$, podemos dizer que o ponto $X_j$ é uma solução melhor pois o menor nível de pertinência de $X_j$ é maior que o menor nível de pertinência de $X_i$, ou $\\min(\\mu_D(X_j)) > \\min(\\mu_D(X_i))$. Olhando dessa forma, fica claro que um problema de otimização multiobjetivo foi transformado em um problema $\\max \\min$ pois o $X^*$ que buscamos agora é aquele que ofereça um $\\mu_D$ cujo menor nível de pertinência é o maior possível. Também podemos dizer que essa forma de representar o problema nos permite resolver um problema multiobjetivo através de algoritmo monoobjetivo pois o algoritmo terá que trabalhar apenas com a função $\\max \\mu_D$. Isso ficará mais claro durante a iplementação computacional.\n",
        "\n",
        "#### Implementação computacional\n",
        "\n",
        "##### Representação do problema\n",
        "\n",
        "Agora que introduzimos o modelo $\\langle X,F \\rangle$ e como analisá-lo, vamos fazer uma implementação computacional com dois exemplos. E começaremos por definir uma FO genérica:"
      ]
    },
    {
      "cell_type": "code",
      "metadata": {
        "colab_type": "code",
        "id": "8OLliwhH50NP",
        "colab": {}
      },
      "source": [
        "import numpy as np"
      ],
      "execution_count": 0,
      "outputs": []
    },
    {
      "cell_type": "code",
      "metadata": {
        "colab_type": "code",
        "id": "VNuasvci50N8",
        "colab": {}
      },
      "source": [
        "class f(object):\n",
        "    \"\"\"\n",
        "    Função Objetivo genérica\n",
        "    \n",
        "    Classe que representa uma FO genérica, para implementação do modelo <X,F>\n",
        "    \"\"\"\n",
        "\n",
        "    def __init__(self, solver, goal, f_max=None, x_max=None, f_min=None, x_min=None):\n",
        "        self.__solver = solver  # Equação da função\n",
        "        if goal == \"max\" or goal == \"min\":  # Objetivo a ser maximizado ou minimizado\n",
        "            self.__goal = goal\n",
        "        else:\n",
        "            raise Exception(\"goal deve ser 'max' ou 'min'.\")\n",
        "        self.__f_max = f_max  # Valoes a serem calculados para mu\n",
        "        self.__x_max = x_max\n",
        "        self.__f_min = f_min\n",
        "        self.__x_min = x_min\n",
        "\n",
        "    @property\n",
        "    def goal(self):\n",
        "        return self.__goal\n",
        "\n",
        "    @property\n",
        "    def f_max(self):\n",
        "        return self.__f_max\n",
        "\n",
        "    @f_max.setter\n",
        "    def f_max(self, f_max):\n",
        "        self.__f_max = f_max\n",
        "\n",
        "    @property\n",
        "    def x_max(self):\n",
        "        return self.__x_max\n",
        "\n",
        "    @x_max.setter\n",
        "    def x_max(self, x_max):\n",
        "        self.__x_max = x_max\n",
        "\n",
        "    @property\n",
        "    def f_min(self):\n",
        "        return self.__f_min\n",
        "\n",
        "    @f_max.setter\n",
        "    def f_min(self, f_min):\n",
        "        self.__f_min = f_min\n",
        "\n",
        "    @property\n",
        "    def x_min(self):\n",
        "        return self.__x_min\n",
        "\n",
        "    @x_min.setter\n",
        "    def x_min(self, x_min):\n",
        "        self.__x_min = x_min\n",
        "\n",
        "    def solve(self, x, inv=False):  # Retorna valor da fução para um dado ponto X\n",
        "        x = np.array(x)\n",
        "        return self.__solver(x) * -1 if inv else self.__solver(x)\n",
        "\n",
        "    def mu(self, x):  # Cálculo de mu, conforme definição\n",
        "        x = np.array(x)\n",
        "        if self.__goal == \"max\":\n",
        "            return (self.solve(x) - self.__f_min) / (self.__f_max - self.__f_min)\n",
        "        elif self.__goal == \"min\":\n",
        "            return (self.__f_max - self.solve(x)) / (self.__f_max - self.__f_min)"
      ],
      "execution_count": 0,
      "outputs": []
    },
    {
      "cell_type": "markdown",
      "metadata": {
        "id": "gS3ETVKIenic",
        "colab_type": "text"
      },
      "source": [
        "**Nota** sobre o método solve: Por que pode ser necessário inverter o valor de $f(X)$?<br>\n",
        "Quando temos em mãos um algoritmo para minimização mas estamos diante de um objetivo a ser maximizado (ou vice-versa), a seguinte transformação pode ser útil:\n",
        "$$\n",
        "    \\begin{equation}\n",
        "        z = \\underset{X \\in L}{\\min} f(X) = -\\underset{X \\in L}{\\max} -f(X)\n",
        "    \\end{equation}\n",
        "$$"
      ]
    },
    {
      "cell_type": "markdown",
      "metadata": {
        "id": "MMIzJUF4enif",
        "colab_type": "text"
      },
      "source": [
        "Para um primeiro exemplo, vamos definir também uma FO linear, que é uma FO genérica cuja equação é um produto escalar dos coeficientes pelas variáveis."
      ]
    },
    {
      "cell_type": "code",
      "metadata": {
        "colab_type": "code",
        "id": "-sjtji-n50OU",
        "colab": {}
      },
      "source": [
        "class f_linear(f):\n",
        "    def __init__(self, coefs, goal):\n",
        "        self.__coefs = np.array(coefs)\n",
        "        f.__init__(self, lambda x: np.dot(self.__coefs, x), goal)\n",
        "\n",
        "    @property\n",
        "    def coefs(self):\n",
        "        return self.__coefs"
      ],
      "execution_count": 0,
      "outputs": []
    },
    {
      "cell_type": "markdown",
      "metadata": {
        "id": "sOXEhWBLenip",
        "colab_type": "text"
      },
      "source": [
        "Vamos agora tratar de um exemplo: um problema de alocação de recursos com 4 FOs lineares\n",
        "\n",
        "$$\n",
        "    \\begin{align}\n",
        "        f_{0}(X)&= 0,06x_0+0,53x_1+0,18x_2+0,18x_3+0,06x_4 \\, \\rightarrow \\, \\max \\\\\n",
        "        f_{1}(X)&= 25x_0+70x_1+60x_2+95x_3+45x_4 \\, \\rightarrow \\, \\max \\\\\n",
        "        f_{2}(X)&= 32,5x_1+300x_2+120x_3 \\, \\rightarrow \\, \\min \\\\\n",
        "        f_{3}(X)&= 0,1x_0+0,1x_1+0,11x_2+0,35x_3+0,33x_4 \\, \\rightarrow \\, \\min\n",
        "    \\end{align}\n",
        "$$\n",
        "\n",
        "sujeitas às seguintes restrições\n",
        "\n",
        "$$\n",
        "\\begin{align}\n",
        "\t0 \\leq x_1 & \\leq 850 \\\\\n",
        "%\n",
        "\t0 \\leq x_2 & \\leq 220 \\\\\n",
        "%\n",
        "\t0 \\leq x_3 & \\leq 1300 \\\\\n",
        "%\n",
        "\t0 \\leq x_4 & \\leq 1615 \\\\\n",
        "%\n",
        "\t0 \\leq x_5 & \\leq 700 \\\\\n",
        "%\n",
        "\tx_1+x_2+x_3+x_4+x_5 & = 3\\text{mil}\n",
        "\\end{align}\n",
        "$$\n",
        "\n",
        "Criando as funções"
      ]
    },
    {
      "cell_type": "code",
      "metadata": {
        "colab_type": "code",
        "id": "eYe8trpe50Ou",
        "colab": {}
      },
      "source": [
        "f0 = f_linear([0.06, 0.53, 0.18, 0.18, 0.06], \"max\")\n",
        "f1 = f_linear([25, 70, 60, 95, 45], \"max\")\n",
        "f2 = f_linear([0, 32.5, 300, 120, 0], \"min\")\n",
        "f3 = f_linear([0.1, 0.1, 0.11, 0.35, 0.33], \"min\")\n",
        "\n",
        "F = [f0, f1, f2, f3]"
      ],
      "execution_count": 0,
      "outputs": []
    },
    {
      "cell_type": "markdown",
      "metadata": {
        "id": "nL55ZWi2eni0",
        "colab_type": "text"
      },
      "source": [
        "E as restrições (já conforme o melhor formato para utilização nos algoritmos de otimização disponíveis)"
      ]
    },
    {
      "cell_type": "code",
      "metadata": {
        "colab_type": "code",
        "id": "LDSD_y8p50PG",
        "colab": {}
      },
      "source": [
        "A_eq = np.array([[1, 1, 1, 1, 1]])\n",
        "b_eq = np.array([3000])\n",
        "x0_bounds = (0, 850)\n",
        "x1_bounds = (0, 220)\n",
        "x2_bounds = (0, 1300)\n",
        "x3_bounds = (0, 1615)\n",
        "x4_bounds = (0, 700)\n",
        "\n",
        "bounds = [x0_bounds, x1_bounds, x2_bounds, x3_bounds, x4_bounds]"
      ],
      "execution_count": 0,
      "outputs": []
    },
    {
      "cell_type": "markdown",
      "metadata": {
        "id": "Oml9d9eOeni-",
        "colab_type": "text"
      },
      "source": [
        "##### Otimização\n",
        "\n",
        "Como dito anteriormente, para análise dos modelos $\\langle X,F \\rangle$ é necessário saber os máximo e mínimo valores que podem ser alcançados pela FO dentro de $L$. Como esse exemplo trata de funções lineares, podemos usar a programação linear para isso. Nesse caso, vamos usar uma biblioteca para minimização. Portanto, para maximizar, será necessário a transformação indicada anteriormente."
      ]
    },
    {
      "cell_type": "code",
      "metadata": {
        "colab_type": "code",
        "id": "QJI5pDXX50Pq",
        "colab": {}
      },
      "source": [
        "from scipy.optimize import linprog\n",
        "import warnings\n",
        "\n",
        "for f_ in F:\n",
        "    res = linprog(f_.coefs * -1, A_eq=A_eq, b_eq=b_eq, bounds=bounds, method='simplex')\n",
        "    if res.success:\n",
        "        f_.f_max = -1 * res.fun\n",
        "        f_.x_max = res.x\n",
        "    else:\n",
        "        warnings.warn(\"Otimização mal sucedida.\")"
      ],
      "execution_count": 0,
      "outputs": []
    },
    {
      "cell_type": "code",
      "metadata": {
        "colab_type": "code",
        "id": "0ZmVK8ua50P8",
        "colab": {}
      },
      "source": [
        "for f_ in F:\n",
        "    res = linprog(f_.coefs, A_eq=A_eq, b_eq=b_eq, bounds=bounds, method='simplex')\n",
        "    if res.success:\n",
        "        f_.f_min = res.fun\n",
        "        f_.x_min = res.x\n",
        "    else:\n",
        "        warnings.warn(\"Otimização mal sucedida.\")"
      ],
      "execution_count": 0,
      "outputs": []
    },
    {
      "cell_type": "markdown",
      "metadata": {
        "id": "B5OEWPKhjMQF",
        "colab_type": "text"
      },
      "source": [
        "Vamos também definir duas funções $\\mu_D$: uma para utilizar com bibliotecas para maximização, onde teremos o problema na forma $\\max \\min$ que queremos originalmente; outra para utilizar com bibliotecas desenvolvidas para minimização, quando teremos um problema $\\min \\max$, que precisará de ser transformado"
      ]
    },
    {
      "cell_type": "code",
      "metadata": {
        "id": "mvC0t8ZRjGsd",
        "colab_type": "code",
        "colab": {}
      },
      "source": [
        "def muD_max(F, x):\n",
        "    x = np.array(x)\n",
        "    return np.min([f_.mu(x) for f_ in F])"
      ],
      "execution_count": 0,
      "outputs": []
    },
    {
      "cell_type": "code",
      "metadata": {
        "colab_type": "code",
        "id": "gno6mkRm50QS",
        "colab": {}
      },
      "source": [
        "def muD_min(x):\n",
        "    x = np.array(x)\n",
        "    return np.max([f_.mu(x)*-1 for f_ in F])"
      ],
      "execution_count": 0,
      "outputs": []
    },
    {
      "cell_type": "markdown",
      "metadata": {
        "id": "qjKleihmoGA_",
        "colab_type": "text"
      },
      "source": [
        "As restrições do tipo $x_1+x_2+x_3+x_4+x_5 = 3\\text{mil}$, Ekel chama de condição de balanço. Problemas com esse tipo de restição nos permitem uma soulção muito interessante pois, partindo de um ponto onde $\\mu_A = 1$ para qualquer uma das "
      ]
    },
    {
      "cell_type": "code",
      "metadata": {
        "colab_type": "code",
        "id": "J4ub2PdA4fxO",
        "colab": {}
      },
      "source": [
        "import copy as cp\n",
        "\n",
        "def possivel_subtrair(posicao, limite, passo):\n",
        "    return True if posicao - passo >= limite[0] else False\n",
        "\n",
        "\n",
        "def possivel_adicionar(posicao, limite, passo):\n",
        "    return True if posicao + passo <= limite[1] else False\n",
        "\n",
        "\n",
        "def caminha(posicao_origem, passo, subtrair_de, adicionar_em):\n",
        "    posicao_destino = cp.deepcopy(posicao_origem)\n",
        "    posicao_destino[subtrair_de] -= passo\n",
        "    posicao_destino[adicionar_em] += passo\n",
        "    return posicao_destino\n",
        "\n",
        "\n",
        "def passo_e_melhor(F, posicao_origem, posicao_destino):\n",
        "    return True if muD_max(F, posicao_destino) > muD_max(F, posicao_origem) else False"
      ],
      "execution_count": 0,
      "outputs": []
    },
    {
      "cell_type": "code",
      "metadata": {
        "colab_type": "code",
        "id": "KMpSkYRAMqmO",
        "colab": {}
      },
      "source": [
        "def heuristica_relogio(F, posicao_inicial, limites, passo=0.5):\n",
        "    posicao_atual = np.array(cp.deepcopy(posicao_inicial))\n",
        "    num_vars = len(posicao_atual)\n",
        "    i = 0\n",
        "    while i < num_vars:\n",
        "        j = 0\n",
        "        while j < num_vars:\n",
        "            if i != j:\n",
        "                if possivel_subtrair(posicao_atual[i], limites[i], passo):\n",
        "                    if possivel_adicionar(posicao_atual[j], limites[j], passo):\n",
        "                        if passo_e_melhor(F, posicao_atual, caminha(posicao_atual, passo, i, j)):\n",
        "                            posicao_atual = caminha(posicao_atual, passo, i, j)\n",
        "                            #print(\"posicao atualizada: {}\".format(posicao_atual))\n",
        "                        else:\n",
        "                            j += 1\n",
        "                    else:\n",
        "                        j += 1\n",
        "                else:\n",
        "                    i += 1\n",
        "                    break\n",
        "            else:\n",
        "                j += 1\n",
        "        i += 1\n",
        "    return posicao_atual"
      ],
      "execution_count": 0,
      "outputs": []
    },
    {
      "cell_type": "code",
      "metadata": {
        "colab_type": "code",
        "id": "rsCNFRPP3OHQ",
        "outputId": "e8884759-2863-427a-9dc8-0a3fc05df518",
        "colab": {
          "base_uri": "https://localhost:8080/",
          "height": 52
        }
      },
      "source": [
        "X = heuristica_relogio(F, f1.x_max, bounds, 0.05)\n",
        "print(X)\n",
        "print(muD_max(F, X))"
      ],
      "execution_count": 19,
      "outputs": [
        {
          "output_type": "stream",
          "text": [
            "[ 850.   220.   609.5 1272.9   47.6]\n",
            "0.5646304819795885\n"
          ],
          "name": "stdout"
        }
      ]
    },
    {
      "cell_type": "code",
      "metadata": {
        "colab_type": "code",
        "id": "c6_Np8S8omXw",
        "outputId": "1185e522-6157-47f2-eec7-29b50115dc3f",
        "colab": {
          "base_uri": "https://localhost:8080/",
          "height": 173
        }
      },
      "source": [
        "pip install --upgrade pyswarm"
      ],
      "execution_count": 9,
      "outputs": [
        {
          "output_type": "stream",
          "text": [
            "Collecting pyswarm\n",
            "  Downloading https://files.pythonhosted.org/packages/79/1e/254c108b5e65c65d57a83a9a448405ea8b6a6c5c10dada8bcab4e9d9a831/pyswarm-0.6.tar.gz\n",
            "Requirement already satisfied, skipping upgrade: numpy in /usr/local/lib/python3.6/dist-packages (from pyswarm) (1.16.4)\n",
            "Building wheels for collected packages: pyswarm\n",
            "  Building wheel for pyswarm (setup.py) ... \u001b[?25l\u001b[?25hdone\n",
            "  Stored in directory: /root/.cache/pip/wheels/37/c5/f6/b33b9ac00040cb95c1f00af982a4197334a672d6de43f4699f\n",
            "Successfully built pyswarm\n",
            "Installing collected packages: pyswarm\n",
            "Successfully installed pyswarm-0.6\n"
          ],
          "name": "stdout"
        }
      ]
    },
    {
      "cell_type": "code",
      "metadata": {
        "colab_type": "code",
        "id": "kjoojryvoYTb",
        "outputId": "cfd51081-936a-4c01-f6c9-a666bc30f3e1",
        "colab": {
          "base_uri": "https://localhost:8080/",
          "height": 34
        }
      },
      "source": [
        "from pyswarm import pso\n",
        "\n",
        "lb = [b[0] for b in bounds]\n",
        "ub = [b[1] for b in bounds]\n",
        "cons = [lambda x: np.dot(A_eq, x)-b_eq[0]+0.5, lambda x: np.dot(A_eq, x)-b_eq[0]-0.5]\n",
        "\n",
        "xpt, fopt = pso(muD_min, lb, ub, ieqcons=cons)"
      ],
      "execution_count": 11,
      "outputs": [
        {
          "output_type": "stream",
          "text": [
            "Stopping search: Swarm best objective change less than 1e-08\n"
          ],
          "name": "stdout"
        }
      ]
    },
    {
      "cell_type": "code",
      "metadata": {
        "colab_type": "code",
        "id": "a7oFh-5l_-6y",
        "outputId": "80b216ad-80d8-4cb1-dc97-fc62cbf40499",
        "colab": {
          "base_uri": "https://localhost:8080/",
          "height": 52
        }
      },
      "source": [
        "print(xpt)\n",
        "print(fopt*-1)"
      ],
      "execution_count": 12,
      "outputs": [
        {
          "output_type": "stream",
          "text": [
            "[604.42345735 189.28779755 804.24411037 999.84640198 435.9141151 ]\n",
            "0.5075250162497655\n"
          ],
          "name": "stdout"
        }
      ]
    }
  ]
}