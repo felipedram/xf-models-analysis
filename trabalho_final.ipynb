{
 "cells": [
  {
   "cell_type": "code",
   "execution_count": 1,
   "metadata": {},
   "outputs": [],
   "source": [
    "import numpy as np\n",
    "import scipy.optimize as opt"
   ]
  },
  {
   "cell_type": "code",
   "execution_count": 2,
   "metadata": {},
   "outputs": [],
   "source": [
    "class f(object):\n",
    "    def __init__(self, solver, goal):\n",
    "        self.__solver = solver\n",
    "        if goal == \"max\" or goal == \"min\":\n",
    "            self.__goal = goal\n",
    "        else:\n",
    "            raise Exception(\"goal deve ser 'max' ou 'min'.\")\n",
    "        self.__f_max = None\n",
    "        self.__x_max = None\n",
    "        self.__f_min = None\n",
    "        self.__x_min = None\n",
    "\n",
    "    @property\n",
    "    def goal(self):\n",
    "        return self.__goal\n",
    "\n",
    "    @property\n",
    "    def f_max(self):\n",
    "        return self.__f_max\n",
    "\n",
    "    @f_max.setter\n",
    "    def f_max(self, f_max):\n",
    "        self.__f_max = f_max\n",
    "\n",
    "    @property\n",
    "    def x_max(self):\n",
    "        return self.__x_max\n",
    "\n",
    "    @x_max.setter\n",
    "    def x_max(self, x_max):\n",
    "        self.__x_max = x_max\n",
    "\n",
    "    @property\n",
    "    def f_min(self):\n",
    "        return self.__f_min\n",
    "\n",
    "    @f_max.setter\n",
    "    def f_min(self, f_min):\n",
    "        self.__f_min = f_min\n",
    "\n",
    "    @property\n",
    "    def x_min(self):\n",
    "        return self.__x_min\n",
    "\n",
    "    @x_min.setter\n",
    "    def x_min(self, x_min):\n",
    "        self.__x_min = x_min\n",
    "\n",
    "    def solve(self, x, inv=False):\n",
    "        x = np.array(x)\n",
    "        return self.__solver(x) * -1 if inv else self.__solver(x)\n",
    "\n",
    "    def mu(self, x):\n",
    "        x = np.array(x)\n",
    "        if self.__goal == \"max\":\n",
    "            return (self.solve(x) - self.__f_min) / (self.__f_max - self.__f_min)\n",
    "        elif self.__goal == \"min\":\n",
    "            return (self.__f_max - self.solve(x)) / (self.__f_max - self.__f_min)"
   ]
  },
  {
   "cell_type": "code",
   "execution_count": 3,
   "metadata": {},
   "outputs": [],
   "source": [
    "class f_linear(f):\n",
    "    def __init__(self, coefs, goal):\n",
    "        self.__coefs = np.array(coefs)\n",
    "        f.__init__(self, lambda x: np.dot(self.__coefs, x), goal)\n",
    "\n",
    "    @property\n",
    "    def coefs(self):\n",
    "        return self.__coefs"
   ]
  },
  {
   "cell_type": "code",
   "execution_count": 4,
   "metadata": {},
   "outputs": [],
   "source": [
    "f1 = f_linear([0.06, 0.53, 0.18, 0.18, 0.06], \"max\")\n",
    "f2 = f_linear([25, 70, 60, 95, 45], \"max\")\n",
    "f3 = f_linear([0, 32.5, 300, 120, 0], \"min\")\n",
    "f4 = f_linear([0.1, 0.1, 0.11, 0.35, 0.33], \"min\")"
   ]
  },
  {
   "cell_type": "code",
   "execution_count": 5,
   "metadata": {},
   "outputs": [],
   "source": [
    "A_eq = np.array([[1, 1, 1, 1, 1]])\n",
    "b_eq = np.array([3000])\n",
    "x0_bounds = (0, 850)\n",
    "x1_bounds = (0, 220)\n",
    "x2_bounds = (0, 1300)\n",
    "x3_bounds = (0, 1615)\n",
    "x4_bounds = (0, 700)"
   ]
  },
  {
   "cell_type": "code",
   "execution_count": 6,
   "metadata": {},
   "outputs": [],
   "source": [
    "F = [f1, f2, f3, f4]\n",
    "bounds = [x0_bounds, x1_bounds, x2_bounds, x3_bounds, x4_bounds]"
   ]
  },
  {
   "cell_type": "code",
   "execution_count": 7,
   "metadata": {},
   "outputs": [],
   "source": [
    "from scipy.optimize import linprog\n",
    "import warnings\n",
    "\n",
    "for f_ in F:\n",
    "    res = linprog(f_.coefs * -1, A_eq=A_eq, b_eq=b_eq, bounds=bounds)\n",
    "    if res.success:\n",
    "        f_.f_max = -1 * res.fun\n",
    "        f_.x_max = res.x\n",
    "    else:\n",
    "        warn(\"Otimização de {} mal sucedida.\").format(f_)"
   ]
  },
  {
   "cell_type": "code",
   "execution_count": 8,
   "metadata": {},
   "outputs": [],
   "source": [
    "for f_ in F:\n",
    "    res = linprog(f_.coefs, A_eq=A_eq, b_eq=b_eq, bounds=bounds)\n",
    "    if res.success:\n",
    "        f_.f_min = res.fun\n",
    "        f_.x_min = res.x\n",
    "    else:\n",
    "        warn(\"Otimização de {} mal sucedida.\").format(f_)"
   ]
  },
  {
   "cell_type": "code",
   "execution_count": 9,
   "metadata": {},
   "outputs": [],
   "source": [
    "def mu_D(x, F):\n",
    "    x = np.array(x)\n",
    "    return max([f_.mu(x) for f_ in F])"
   ]
  },
  {
   "cell_type": "code",
   "execution_count": 10,
   "metadata": {},
   "outputs": [],
   "source": [
    "def basinhopping_bounds(x):\n",
    "    resp = True\n",
    "    if np.dot(x, A_eq[0]) != b_eq[0]:\n",
    "        resp = False\n",
    "    if x[0] < x0_bounds[0] or x[0] > x0_bounds[1]:\n",
    "        resp = False\n",
    "    if x[1] < x1_bounds[0] or x[1] > x1_bounds[1]:\n",
    "        resp = False\n",
    "    if x[2] < x2_bounds[0] or x[2] > x2_bounds[1]:\n",
    "        resp = False\n",
    "    if x[3] < x3_bounds[0] or x[3] > x3_bounds[1]:\n",
    "        resp = False\n",
    "    if x[4] < x4_bounds[0] or x[4] > x4_bounds[1]:\n",
    "        resp = False\n",
    "    return resp\n",
    "\n",
    "\n",
    "cobyla_constraints = [\n",
    "    {\"type\": \"ineq\", \"fun\": lambda x: x[0]},\n",
    "    {\"type\": \"ineq\", \"fun\": lambda x: x0_bounds[1] - x[0]},\n",
    "    {\"type\": \"ineq\", \"fun\": lambda x: x[1]},\n",
    "    {\"type\": \"ineq\", \"fun\": lambda x: x1_bounds[1] - x[1]},\n",
    "    {\"type\": \"ineq\", \"fun\": lambda x: x[2]},\n",
    "    {\"type\": \"ineq\", \"fun\": lambda x: x2_bounds[1] - x[2]},\n",
    "    {\"type\": \"ineq\", \"fun\": lambda x: x[3]},\n",
    "    {\"type\": \"ineq\", \"fun\": lambda x: x3_bounds[1] - x[3]},\n",
    "    {\"type\": \"ineq\", \"fun\": lambda x: x[4]},\n",
    "    {\"type\": \"ineq\", \"fun\": lambda x: x4_bounds[1] - x[4]},\n",
    "    {\"type\": \"eq\", \"fun\": lambda x: np.dot(x, A_eq[0]) - b_eq[0]},\n",
    "]"
   ]
  },
  {
   "cell_type": "code",
   "execution_count": 11,
   "metadata": {},
   "outputs": [
    {
     "name": "stdout",
     "output_type": "stream",
     "text": [
      "basinhopping step 0: f 1\n"
     ]
    },
    {
     "ename": "TypeError",
     "evalue": "basinhopping_bounds() got an unexpected keyword argument 'f_new'",
     "output_type": "error",
     "traceback": [
      "\u001b[0;31m---------------------------------------------------------------------------\u001b[0m",
      "\u001b[0;31mTypeError\u001b[0m                                 Traceback (most recent call last)",
      "\u001b[0;32m<ipython-input-11-ba4f3efaec5d>\u001b[0m in \u001b[0;36m<module>\u001b[0;34m\u001b[0m\n\u001b[1;32m      5\u001b[0m     \u001b[0mminimizer_kwargs\u001b[0m\u001b[0;34m=\u001b[0m\u001b[0mminimizer_kwargs\u001b[0m\u001b[0;34m,\u001b[0m\u001b[0;34m\u001b[0m\u001b[0;34m\u001b[0m\u001b[0m\n\u001b[1;32m      6\u001b[0m     \u001b[0maccept_test\u001b[0m\u001b[0;34m=\u001b[0m\u001b[0mbasinhopping_bounds\u001b[0m\u001b[0;34m,\u001b[0m\u001b[0;34m\u001b[0m\u001b[0;34m\u001b[0m\u001b[0m\n\u001b[0;32m----> 7\u001b[0;31m     \u001b[0mdisp\u001b[0m\u001b[0;34m=\u001b[0m\u001b[0;32mTrue\u001b[0m\u001b[0;34m,\u001b[0m\u001b[0;34m\u001b[0m\u001b[0;34m\u001b[0m\u001b[0m\n\u001b[0m\u001b[1;32m      8\u001b[0m )\n",
      "\u001b[0;32m~/anaconda3/lib/python3.6/site-packages/scipy/optimize/_basinhopping.py\u001b[0m in \u001b[0;36mbasinhopping\u001b[0;34m(func, x0, niter, T, stepsize, minimizer_kwargs, take_step, accept_test, callback, interval, disp, niter_success, seed)\u001b[0m\n\u001b[1;32m    674\u001b[0m                \" successfully\"]\n\u001b[1;32m    675\u001b[0m     \u001b[0;32mfor\u001b[0m \u001b[0mi\u001b[0m \u001b[0;32min\u001b[0m \u001b[0mrange\u001b[0m\u001b[0;34m(\u001b[0m\u001b[0mniter\u001b[0m\u001b[0;34m)\u001b[0m\u001b[0;34m:\u001b[0m\u001b[0;34m\u001b[0m\u001b[0;34m\u001b[0m\u001b[0m\n\u001b[0;32m--> 676\u001b[0;31m         \u001b[0mnew_global_min\u001b[0m \u001b[0;34m=\u001b[0m \u001b[0mbh\u001b[0m\u001b[0;34m.\u001b[0m\u001b[0mone_cycle\u001b[0m\u001b[0;34m(\u001b[0m\u001b[0;34m)\u001b[0m\u001b[0;34m\u001b[0m\u001b[0;34m\u001b[0m\u001b[0m\n\u001b[0m\u001b[1;32m    677\u001b[0m \u001b[0;34m\u001b[0m\u001b[0m\n\u001b[1;32m    678\u001b[0m         \u001b[0;32mif\u001b[0m \u001b[0mcallable\u001b[0m\u001b[0;34m(\u001b[0m\u001b[0mcallback\u001b[0m\u001b[0;34m)\u001b[0m\u001b[0;34m:\u001b[0m\u001b[0;34m\u001b[0m\u001b[0;34m\u001b[0m\u001b[0m\n",
      "\u001b[0;32m~/anaconda3/lib/python3.6/site-packages/scipy/optimize/_basinhopping.py\u001b[0m in \u001b[0;36mone_cycle\u001b[0;34m(self)\u001b[0m\n\u001b[1;32m    152\u001b[0m         \u001b[0mnew_global_min\u001b[0m \u001b[0;34m=\u001b[0m \u001b[0;32mFalse\u001b[0m\u001b[0;34m\u001b[0m\u001b[0;34m\u001b[0m\u001b[0m\n\u001b[1;32m    153\u001b[0m \u001b[0;34m\u001b[0m\u001b[0m\n\u001b[0;32m--> 154\u001b[0;31m         \u001b[0maccept\u001b[0m\u001b[0;34m,\u001b[0m \u001b[0mminres\u001b[0m \u001b[0;34m=\u001b[0m \u001b[0mself\u001b[0m\u001b[0;34m.\u001b[0m\u001b[0m_monte_carlo_step\u001b[0m\u001b[0;34m(\u001b[0m\u001b[0;34m)\u001b[0m\u001b[0;34m\u001b[0m\u001b[0;34m\u001b[0m\u001b[0m\n\u001b[0m\u001b[1;32m    155\u001b[0m \u001b[0;34m\u001b[0m\u001b[0m\n\u001b[1;32m    156\u001b[0m         \u001b[0;32mif\u001b[0m \u001b[0maccept\u001b[0m\u001b[0;34m:\u001b[0m\u001b[0;34m\u001b[0m\u001b[0;34m\u001b[0m\u001b[0m\n",
      "\u001b[0;32m~/anaconda3/lib/python3.6/site-packages/scipy/optimize/_basinhopping.py\u001b[0m in \u001b[0;36m_monte_carlo_step\u001b[0;34m(self)\u001b[0m\n\u001b[1;32m    127\u001b[0m         \u001b[0;32mfor\u001b[0m \u001b[0mtest\u001b[0m \u001b[0;32min\u001b[0m \u001b[0mself\u001b[0m\u001b[0;34m.\u001b[0m\u001b[0maccept_tests\u001b[0m\u001b[0;34m:\u001b[0m\u001b[0;34m\u001b[0m\u001b[0;34m\u001b[0m\u001b[0m\n\u001b[1;32m    128\u001b[0m             testres = test(f_new=energy_after_quench, x_new=x_after_quench,\n\u001b[0;32m--> 129\u001b[0;31m                            f_old=self.energy, x_old=self.x)\n\u001b[0m\u001b[1;32m    130\u001b[0m             \u001b[0;32mif\u001b[0m \u001b[0mtestres\u001b[0m \u001b[0;34m==\u001b[0m \u001b[0;34m'force accept'\u001b[0m\u001b[0;34m:\u001b[0m\u001b[0;34m\u001b[0m\u001b[0;34m\u001b[0m\u001b[0m\n\u001b[1;32m    131\u001b[0m                 \u001b[0maccept\u001b[0m \u001b[0;34m=\u001b[0m \u001b[0;32mTrue\u001b[0m\u001b[0;34m\u001b[0m\u001b[0;34m\u001b[0m\u001b[0m\n",
      "\u001b[0;31mTypeError\u001b[0m: basinhopping_bounds() got an unexpected keyword argument 'f_new'"
     ]
    }
   ],
   "source": [
    "minimizer_kwargs = {\"args\": F, \"method\": \"SLSQP\", \"constraints\": cobyla_constraints}\n",
    "opt.basinhopping(\n",
    "    mu_D,\n",
    "    f1.x_max,\n",
    "    minimizer_kwargs=minimizer_kwargs,\n",
    "    accept_test=basinhopping_bounds,\n",
    "    disp=True,\n",
    ")"
   ]
  },
  {
   "cell_type": "code",
   "execution_count": null,
   "metadata": {},
   "outputs": [],
   "source": []
  }
 ],
 "metadata": {
  "kernelspec": {
   "display_name": "Python 3",
   "language": "python",
   "name": "python3"
  },
  "language_info": {
   "codemirror_mode": {
    "name": "ipython",
    "version": 3
   },
   "file_extension": ".py",
   "mimetype": "text/x-python",
   "name": "python",
   "nbconvert_exporter": "python",
   "pygments_lexer": "ipython3",
   "version": "3.6.8"
  }
 },
 "nbformat": 4,
 "nbformat_minor": 2
}
