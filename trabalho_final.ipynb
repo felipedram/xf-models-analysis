{
 "cells": [
  {
   "cell_type": "code",
   "execution_count": 5,
   "metadata": {},
   "outputs": [],
   "source": [
    "import numpy as np\n",
    "import scipy.optimize as opt"
   ]
  },
  {
   "cell_type": "code",
   "execution_count": 6,
   "metadata": {},
   "outputs": [],
   "source": [
    "class f_linear (object):\n",
    "    def __init__ (self, coefs, goal):\n",
    "        self.__coefs = coefs\n",
    "        if (goal == 'max' or goal == 'min'):\n",
    "            self.__goal = goal\n",
    "        else:\n",
    "            raise Exception(\"goal deve ser 'max' ou 'min'.\")\n",
    "        self.__f_max = None\n",
    "        self.__f_min = None\n",
    "    \n",
    "    @property\n",
    "    def coefs(self):\n",
    "        return self.__coefs\n",
    "    \n",
    "    @property\n",
    "    def goal(self):\n",
    "        return self.__goal\n",
    "    \n",
    "    @property\n",
    "    def f_max(self):\n",
    "        return self.__f_max\n",
    "    \n",
    "    @f_max.setter\n",
    "    def f_max(self, f_max):\n",
    "        self.__f_max = f_max\n",
    "        \n",
    "    @property\n",
    "    def f_min(self):\n",
    "        return self.__f_min\n",
    "    \n",
    "    @f_max.setter\n",
    "    def f_min(self, f_min):\n",
    "        self.__f_min = f_min\n",
    "    \n",
    "    def solve(self, x, inv=False):\n",
    "        return x.dot(self.__coefs)*-1 if inv else x.dot(self.__coefs)\n",
    "    \n",
    "    def mu(self, x):\n",
    "        if self.__goal == 'max':\n",
    "            return (self.solve(x) - self.__f_min)/(self.__f_max - self.__f_min)\n",
    "        elif self.__goal == 'min':\n",
    "            return (self.__f_max - self.solve(x))/(self.__f_max - self.__f_min)"
   ]
  },
  {
   "cell_type": "code",
   "execution_count": 7,
   "metadata": {},
   "outputs": [],
   "source": [
    "f1 = f_linear(np.array([0.06, 0.53, 0.18, 0.18, 0.06]), 'max')\n",
    "f2 = f_linear(np.array([25, 70, 60, 95, 45]), 'max')\n",
    "f3 = f_linear(np.array([0, 32.5, 300, 120, 0]), 'min')\n",
    "f4 = f_linear(np.array([0.1, 0.1, 0.11, 0.35, 0.33]), 'min')"
   ]
  },
  {
   "cell_type": "code",
   "execution_count": 8,
   "metadata": {},
   "outputs": [],
   "source": [
    "A_eq = np.array([[1, 1, 1, 1, 1]])\n",
    "b_eq = np.array([300])\n",
    "x0_bounds = (0, 850)\n",
    "x1_bounds = (0, 220)\n",
    "x2_bounds = (0, 1300)\n",
    "x3_bounds = (0, 1615)\n",
    "x4_bounds = (0, 700)"
   ]
  },
  {
   "cell_type": "code",
   "execution_count": 9,
   "metadata": {},
   "outputs": [],
   "source": [
    "from scipy.optimize import linprog\n",
    "\n",
    "res = linprog(f1.coefs*-1, A_eq=A_eq, b_eq=b_eq, bounds=[x0_bounds, x1_bounds, x2_bounds, x3_bounds, x4_bounds])\n",
    "f1.f_max = -1*res.fun\n",
    "\n",
    "res = linprog(f2.coefs*-1, A_eq=A_eq, b_eq=b_eq, bounds=[x0_bounds, x1_bounds, x2_bounds, x3_bounds, x4_bounds])\n",
    "f2.f_max = -1*res.fun\n",
    "\n",
    "res = linprog(f2.coefs*-1, A_eq=A_eq, b_eq=b_eq, bounds=[x0_bounds, x1_bounds, x2_bounds, x3_bounds, x4_bounds])\n",
    "f3.f_max = -1*res.fun\n",
    "\n",
    "res = linprog(f3.coefs*-1, A_eq=A_eq, b_eq=b_eq, bounds=[x0_bounds, x1_bounds, x2_bounds, x3_bounds, x4_bounds])\n",
    "f4.f_max = -1*res.fun"
   ]
  },
  {
   "cell_type": "code",
   "execution_count": 10,
   "metadata": {},
   "outputs": [],
   "source": [
    "res = linprog(f1.coefs, A_eq=A_eq, b_eq=b_eq, bounds=[x0_bounds, x1_bounds, x2_bounds, x3_bounds, x4_bounds])\n",
    "f1.f_min = res.fun\n",
    "\n",
    "res = linprog(f2.coefs, A_eq=A_eq, b_eq=b_eq, bounds=[x0_bounds, x1_bounds, x2_bounds, x3_bounds, x4_bounds])\n",
    "f2.f_min = res.fun\n",
    "\n",
    "res = linprog(f2.coefs, A_eq=A_eq, b_eq=b_eq, bounds=[x0_bounds, x1_bounds, x2_bounds, x3_bounds, x4_bounds])\n",
    "f3.f_min = res.fun\n",
    "\n",
    "res = linprog(f3.coefs*-1, A_eq=A_eq, b_eq=b_eq, bounds=[x0_bounds, x1_bounds, x2_bounds, x3_bounds, x4_bounds])\n",
    "f4.f_min = res.fun"
   ]
  },
  {
   "cell_type": "code",
   "execution_count": 21,
   "metadata": {},
   "outputs": [
    {
     "data": {
      "text/plain": [
       "     fun: -131.0\n",
       " message: 'Optimization terminated successfully.'\n",
       "     nit: 3\n",
       "   slack: array([ 850.,    0., 1220., 1615.,  700.])\n",
       "  status: 0\n",
       " success: True\n",
       "       x: array([  0., 220.,  80.,   0.,   0.])"
      ]
     },
     "execution_count": 21,
     "metadata": {},
     "output_type": "execute_result"
    }
   ],
   "source": [
    "res = linprog(f1.coefs*-1, A_eq=A_eq, b_eq=b_eq, bounds=[x0_bounds, x1_bounds, x2_bounds, x3_bounds, x4_bounds])\n",
    "res"
   ]
  },
  {
   "cell_type": "code",
   "execution_count": 14,
   "metadata": {},
   "outputs": [
    {
     "data": {
      "text/plain": [
       "array([ 1.        ,  0.6047619 , -0.12619048,  0.49982889])"
      ]
     },
     "execution_count": 14,
     "metadata": {},
     "output_type": "execute_result"
    }
   ],
   "source": [
    "x_ = np.array([0, 220, 80, 0, 0])\n",
    "muD = np.array([f1.mu(x_), f2.mu(x_), f3.mu(x_), f4.mu(x_)])\n",
    "muD"
   ]
  }
 ],
 "metadata": {
  "kernelspec": {
   "display_name": "Python 3",
   "language": "python",
   "name": "python3"
  },
  "language_info": {
   "codemirror_mode": {
    "name": "ipython",
    "version": 3
   },
   "file_extension": ".py",
   "mimetype": "text/x-python",
   "name": "python",
   "nbconvert_exporter": "python",
   "pygments_lexer": "ipython3",
   "version": "3.6.8"
  }
 },
 "nbformat": 4,
 "nbformat_minor": 2
}
