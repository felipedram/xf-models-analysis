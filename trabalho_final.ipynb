{
 "cells": [
  {
   "cell_type": "code",
   "execution_count": 9,
   "metadata": {},
   "outputs": [],
   "source": [
    "import numpy as np\n",
    "import scipy.optimize as opt"
   ]
  },
  {
   "cell_type": "code",
   "execution_count": 64,
   "metadata": {},
   "outputs": [],
   "source": [
    "def f1 (X, objective):\n",
    "    X = np.array(X)\n",
    "    C = np.array([0.06, 0.53, 0.18, 0.18, 0.06])\n",
    "    if objective == 'max':\n",
    "        return X.dot(C)\n",
    "    elif objective == 'min':\n",
    "        C = -1*C\n",
    "        return X.dot(C)\n",
    "\n",
    "def f2 (X, objective):\n",
    "    X = np.array(X)\n",
    "    C = np.array([25, 70, 60, 95, 45])\n",
    "    if objective == 'max':\n",
    "        return X.dot(C)\n",
    "    elif objective == 'min':\n",
    "        C = -1*C\n",
    "        return X.dot(C)\n",
    "\n",
    "def f3 (X, objective):\n",
    "    X = np.array(X)\n",
    "    C = np.array([0, 32.5, 300, 120, 0])\n",
    "    if objective == 'min':\n",
    "        return X.dot(C)\n",
    "    elif objective == 'max':\n",
    "        C = -1*C\n",
    "        return X.dot(C)\n",
    "\n",
    "def f4 (X, objective):\n",
    "    X = np.array(X)\n",
    "    C = np.array([0.1, 0.1, 0.11, 0.35, 0.33])\n",
    "    if objective == 'min':\n",
    "        return X.dot(C)\n",
    "    elif objective == 'max':\n",
    "        C = -1*C\n",
    "        return X.dot(C)"
   ]
  },
  {
   "cell_type": "code",
   "execution_count": 59,
   "metadata": {},
   "outputs": [],
   "source": [
    "#cons = opt.LinearConstraint([1, 1, 1, 1, 1], 0, 3000)\n",
    "def eq_cons (X):\n",
    "    X = np.array(X)\n",
    "    C = np.array([1, 1, 1, 1, 1])\n",
    "    return X.dot(C)-3000\n",
    "cons=({'type':'eq','fun': eq_cons})\n",
    "bd = opt.Bounds([0, 0, 0, 0, 0], [850, 220, 1300, 1615, 700])"
   ]
  },
  {
   "cell_type": "code",
   "execution_count": 65,
   "metadata": {},
   "outputs": [],
   "source": [
    "opt_min_f1 = opt.minimize(f1, [850, 220, 1300, 630, 0], ('min'), bounds=bd, constraints=[cons])\n",
    "opt_min_f2 = opt.minimize(f2, [850, 220, 1300, 630, 0], ('min'), bounds=bd, constraints=[cons])\n",
    "opt_min_f3 = opt.minimize(f3, [850, 220, 1300, 630, 0], ('min'), bounds=bd, constraints=[cons])\n",
    "opt_min_f4 = opt.minimize(f4, [850, 220, 1300, 630, 0], ('min'), bounds=bd, constraints=[cons])"
   ]
  },
  {
   "cell_type": "code",
   "execution_count": null,
   "metadata": {},
   "outputs": [],
   "source": [
    "def eq_cons (X):\n",
    "    X = np.array(X)\n",
    "    C = np.array([1, 1, 1, 1, 1])\n",
    "    return X.dot(C)+3000"
   ]
  },
  {
   "cell_type": "code",
   "execution_count": 66,
   "metadata": {},
   "outputs": [],
   "source": [
    "opt_max_f1 = opt.minimize(f1, [850, 220, 1300, 630, 0], ('max'), bounds=bd, constraints=cons)\n",
    "opt_max_f2 = opt.minimize(f2, [850, 220, 1300, 630, 0], ('max'), bounds=bd, constraints=cons)\n",
    "opt_max_f3 = opt.minimize(f3, [850, 220, 1300, 630, 0], ('max'), bounds=bd, constraints=cons)\n",
    "opt_max_f4 = opt.minimize(f4, [850, 220, 1300, 630, 0], ('max'), bounds=bd, constraints=cons)"
   ]
  },
  {
   "cell_type": "code",
   "execution_count": 67,
   "metadata": {},
   "outputs": [
    {
     "name": "stdout",
     "output_type": "stream",
     "text": [
      "-617.0000000000001\n",
      "354.0000000002754\n"
     ]
    }
   ],
   "source": [
    "print(opt_min_f1.fun)\n",
    "print(opt_max_f1.fun)"
   ]
  },
  {
   "cell_type": "code",
   "execution_count": 63,
   "metadata": {},
   "outputs": [
    {
     "name": "stdout",
     "output_type": "stream",
     "text": [
      "[8.50000000e+02 5.36865053e-10 1.00088947e+03 4.49110532e+02\n",
      " 7.00000000e+02]\n",
      "[8.50000000e+02 5.36865053e-10 1.00088947e+03 4.49110532e+02\n",
      " 7.00000000e+02]\n"
     ]
    }
   ],
   "source": [
    "print(opt_min_f1.x)\n",
    "print(opt_max_f1.x)"
   ]
  },
  {
   "cell_type": "code",
   "execution_count": null,
   "metadata": {},
   "outputs": [],
   "source": []
  }
 ],
 "metadata": {
  "kernelspec": {
   "display_name": "Python 3",
   "language": "python",
   "name": "python3"
  },
  "language_info": {
   "codemirror_mode": {
    "name": "ipython",
    "version": 3
   },
   "file_extension": ".py",
   "mimetype": "text/x-python",
   "name": "python",
   "nbconvert_exporter": "python",
   "pygments_lexer": "ipython3",
   "version": "3.7.1"
  }
 },
 "nbformat": 4,
 "nbformat_minor": 2
}
