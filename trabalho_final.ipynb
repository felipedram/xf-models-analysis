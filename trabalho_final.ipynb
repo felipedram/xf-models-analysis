{
  "nbformat": 4,
  "nbformat_minor": 0,
  "metadata": {
    "colab": {
      "name": "trabalho_final.ipynb",
      "version": "0.3.2",
      "provenance": [],
      "include_colab_link": true
    },
    "language_info": {
      "codemirror_mode": {
        "name": "ipython",
        "version": 3
      },
      "file_extension": ".py",
      "mimetype": "text/x-python",
      "name": "python",
      "nbconvert_exporter": "python",
      "pygments_lexer": "ipython3",
      "version": "3.6.8"
    },
    "kernelspec": {
      "name": "python3",
      "display_name": "Python 3"
    },
    "accelerator": "GPU"
  },
  "cells": [
    {
      "cell_type": "markdown",
      "metadata": {
        "id": "view-in-github",
        "colab_type": "text"
      },
      "source": [
        "<a href=\"https://colab.research.google.com/github/felipedram/xf-models-analysis/blob/master/trabalho_final.ipynb\" target=\"_parent\"><img src=\"https://colab.research.google.com/assets/colab-badge.svg\" alt=\"Open In Colab\"/></a>"
      ]
    },
    {
      "cell_type": "markdown",
      "metadata": {
        "id": "jbafUdSFttaH",
        "colab_type": "text"
      },
      "source": [
        "[Funções para teste](http://delta.cs.cinvestav.mx/~ccoello/EMOO/testfuncs/)<br>\n",
        "[Documentação basin-hopping](https://docs.scipy.org/doc/scipy/reference/generated/scipy.optimize.basinhopping.html#scipy.optimize.basinhopping)<br>\n",
        "[Documentação minimize](https://docs.scipy.org/doc/scipy/reference/generated/scipy.optimize.minimize.html)<br>\n",
        "[Basin-Hopping Paper](https://arxiv.org/pdf/cond-mat/9803344.pdf)<br>\n",
        "[Stochastic Gradient Descent Towards Data Science](https://towardsdatascience.com/gradient-descent-in-python-a0d07285742f)<br>\n",
        "[Stochastic Gradient Descent](https://www.pyimagesearch.com/2016/10/17/stochastic-gradient-descent-sgd-with-python/)\n",
        "[StatQuest Gradient Descent](https://www.youtube.com/watch?v=sDv4f4s2SB8)<br>\n",
        "[StatQuest Stochastic Gradient Descent](https://www.youtube.com/watch?v=vMh0zPT0tLI)"
      ]
    },
    {
      "cell_type": "code",
      "metadata": {
        "id": "8OLliwhH50NP",
        "colab_type": "code",
        "colab": {}
      },
      "source": [
        "import numpy as np\n",
        "import scipy.optimize as opt"
      ],
      "execution_count": 0,
      "outputs": []
    },
    {
      "cell_type": "code",
      "metadata": {
        "id": "VNuasvci50N8",
        "colab_type": "code",
        "colab": {}
      },
      "source": [
        "class f(object):\n",
        "    def __init__(self, solver, goal):\n",
        "        self.__solver = solver\n",
        "        if goal == \"max\" or goal == \"min\":\n",
        "            self.__goal = goal\n",
        "        else:\n",
        "            raise Exception(\"goal deve ser 'max' ou 'min'.\")\n",
        "        self.__f_max = None\n",
        "        self.__x_max = None\n",
        "        self.__f_min = None\n",
        "        self.__x_min = None\n",
        "\n",
        "    @property\n",
        "    def goal(self):\n",
        "        return self.__goal\n",
        "\n",
        "    @property\n",
        "    def f_max(self):\n",
        "        return self.__f_max\n",
        "\n",
        "    @f_max.setter\n",
        "    def f_max(self, f_max):\n",
        "        self.__f_max = f_max\n",
        "\n",
        "    @property\n",
        "    def x_max(self):\n",
        "        return self.__x_max\n",
        "\n",
        "    @x_max.setter\n",
        "    def x_max(self, x_max):\n",
        "        self.__x_max = x_max\n",
        "\n",
        "    @property\n",
        "    def f_min(self):\n",
        "        return self.__f_min\n",
        "\n",
        "    @f_max.setter\n",
        "    def f_min(self, f_min):\n",
        "        self.__f_min = f_min\n",
        "\n",
        "    @property\n",
        "    def x_min(self):\n",
        "        return self.__x_min\n",
        "\n",
        "    @x_min.setter\n",
        "    def x_min(self, x_min):\n",
        "        self.__x_min = x_min\n",
        "\n",
        "    def solve(self, x, inv=False):\n",
        "        x = np.array(x)\n",
        "        return self.__solver(x) * -1 if inv else self.__solver(x)\n",
        "\n",
        "    def mu(self, x):\n",
        "        x = np.array(x)\n",
        "        if self.__goal == \"max\":\n",
        "            return (self.solve(x) - self.__f_min) / (self.__f_max - self.__f_min)\n",
        "        elif self.__goal == \"min\":\n",
        "            return (self.__f_max - self.solve(x)) / (self.__f_max - self.__f_min)"
      ],
      "execution_count": 0,
      "outputs": []
    },
    {
      "cell_type": "code",
      "metadata": {
        "id": "-sjtji-n50OU",
        "colab_type": "code",
        "colab": {}
      },
      "source": [
        "class f_linear(f):\n",
        "    def __init__(self, coefs, goal):\n",
        "        self.__coefs = np.array(coefs)\n",
        "        f.__init__(self, lambda x: np.dot(self.__coefs, x), goal)\n",
        "\n",
        "    @property\n",
        "    def coefs(self):\n",
        "        return self.__coefs"
      ],
      "execution_count": 0,
      "outputs": []
    },
    {
      "cell_type": "code",
      "metadata": {
        "id": "eYe8trpe50Ou",
        "colab_type": "code",
        "colab": {}
      },
      "source": [
        "f1 = f_linear([0.06, 0.53, 0.18, 0.18, 0.06], \"max\")\n",
        "f2 = f_linear([25, 70, 60, 95, 45], \"max\")\n",
        "f3 = f_linear([0, 32.5, 300, 120, 0], \"min\")\n",
        "f4 = f_linear([0.1, 0.1, 0.11, 0.35, 0.33], \"min\")"
      ],
      "execution_count": 0,
      "outputs": []
    },
    {
      "cell_type": "code",
      "metadata": {
        "id": "LDSD_y8p50PG",
        "colab_type": "code",
        "colab": {}
      },
      "source": [
        "A_eq = np.array([[1, 1, 1, 1, 1]])\n",
        "b_eq = np.array([3000])\n",
        "x0_bounds = (0, 850)\n",
        "x1_bounds = (0, 220)\n",
        "x2_bounds = (0, 1300)\n",
        "x3_bounds = (0, 1615)\n",
        "x4_bounds = (0, 700)"
      ],
      "execution_count": 0,
      "outputs": []
    },
    {
      "cell_type": "code",
      "metadata": {
        "id": "0twA0TCk50PY",
        "colab_type": "code",
        "colab": {}
      },
      "source": [
        "F = [f1, f2, f3, f4]\n",
        "bounds = [x0_bounds, x1_bounds, x2_bounds, x3_bounds, x4_bounds]"
      ],
      "execution_count": 0,
      "outputs": []
    },
    {
      "cell_type": "code",
      "metadata": {
        "id": "QJI5pDXX50Pq",
        "colab_type": "code",
        "colab": {}
      },
      "source": [
        "from scipy.optimize import linprog\n",
        "import warnings\n",
        "\n",
        "for f_ in F:\n",
        "    res = linprog(f_.coefs * -1, A_eq=A_eq, b_eq=b_eq, bounds=bounds, method='simplex')\n",
        "    if res.success:\n",
        "        f_.f_max = -1 * res.fun\n",
        "        f_.x_max = res.x\n",
        "    else:\n",
        "        warnings.warn(\"Otimização mal sucedida.\")"
      ],
      "execution_count": 0,
      "outputs": []
    },
    {
      "cell_type": "code",
      "metadata": {
        "id": "0ZmVK8ua50P8",
        "colab_type": "code",
        "colab": {}
      },
      "source": [
        "for f_ in F:\n",
        "    res = linprog(f_.coefs, A_eq=A_eq, b_eq=b_eq, bounds=bounds, method='simplex')\n",
        "    if res.success:\n",
        "        f_.f_min = res.fun\n",
        "        f_.x_min = res.x\n",
        "    else:\n",
        "        warnings.warn(\"Otimização mal sucedida.\")"
      ],
      "execution_count": 0,
      "outputs": []
    },
    {
      "cell_type": "code",
      "metadata": {
        "id": "gno6mkRm50QS",
        "colab_type": "code",
        "colab": {}
      },
      "source": [
        "def muD_min(x):\n",
        "    x = np.array(x)\n",
        "    return np.max([f_.mu(x)*-1 for f_ in F])"
      ],
      "execution_count": 0,
      "outputs": []
    },
    {
      "cell_type": "code",
      "metadata": {
        "id": "SDWKf6Qn50Qo",
        "colab_type": "code",
        "colab": {}
      },
      "source": [
        "def basinhopping_bounds(**kwargs):\n",
        "    x = kwargs[\"x_new\"]\n",
        "    resp = True\n",
        "    if np.dot(x, A_eq[0]) != b_eq[0]:\n",
        "        resp = False\n",
        "    if x[0] < x0_bounds[0] or x[0] > x0_bounds[1]:\n",
        "        resp = False\n",
        "    if x[1] < x1_bounds[0] or x[1] > x1_bounds[1]:\n",
        "        resp = False\n",
        "    if x[2] < x2_bounds[0] or x[2] > x2_bounds[1]:\n",
        "        resp = False\n",
        "    if x[3] < x3_bounds[0] or x[3] > x3_bounds[1]:\n",
        "        resp = False\n",
        "    if x[4] < x4_bounds[0] or x[4] > x4_bounds[1]:\n",
        "        resp = False\n",
        "    return resp\n",
        "\n",
        "\n",
        "\n",
        "cobyla_constraints = [\n",
        "    {\"type\": \"ineq\", \"fun\": lambda x: x[0]},\n",
        "    {\"type\": \"ineq\", \"fun\": lambda x: x0_bounds[1] - x[0]},\n",
        "    {\"type\": \"ineq\", \"fun\": lambda x: x[1]},\n",
        "    {\"type\": \"ineq\", \"fun\": lambda x: x1_bounds[1] - x[1]},\n",
        "    {\"type\": \"ineq\", \"fun\": lambda x: x[2]},\n",
        "    {\"type\": \"ineq\", \"fun\": lambda x: x2_bounds[1] - x[2]},\n",
        "    {\"type\": \"ineq\", \"fun\": lambda x: x[3]},\n",
        "    {\"type\": \"ineq\", \"fun\": lambda x: x3_bounds[1] - x[3]},\n",
        "    {\"type\": \"ineq\", \"fun\": lambda x: x[4]},\n",
        "    {\"type\": \"ineq\", \"fun\": lambda x: x4_bounds[1] - x[4]},\n",
        "    {\"type\": \"eq\", \"fun\": lambda x: np.dot(x, A_eq[0]) - b_eq[0]},\n",
        "]"
      ],
      "execution_count": 0,
      "outputs": []
    },
    {
      "cell_type": "code",
      "metadata": {
        "id": "nU0SllIy50RS",
        "colab_type": "code",
        "colab": {}
      },
      "source": [
        "minimizer_kwargs = {\"method\": \"SLSQP\", \"constraints\": cobyla_constraints}\n",
        "res1 = opt.basinhopping(\n",
        "    muD_min,\n",
        "    f1.x_max,\n",
        "    minimizer_kwargs=minimizer_kwargs,\n",
        "    accept_test=basinhopping_bounds,\n",
        "    disp=False,\n",
        ")\n",
        "res2 = opt.basinhopping(\n",
        "    muD_min,\n",
        "    f2.x_max,\n",
        "    minimizer_kwargs=minimizer_kwargs,\n",
        "    accept_test=basinhopping_bounds,\n",
        "    disp=False,\n",
        ")\n",
        "res3 = opt.basinhopping(\n",
        "    muD_min,\n",
        "    f3.x_max,\n",
        "    minimizer_kwargs=minimizer_kwargs,\n",
        "    accept_test=basinhopping_bounds,\n",
        "    disp=False,\n",
        ")\n",
        "res4 = opt.basinhopping(\n",
        "    muD_min,\n",
        "    f4.x_max,\n",
        "    minimizer_kwargs=minimizer_kwargs,\n",
        "    accept_test=basinhopping_bounds,\n",
        "    disp=False,\n",
        ")"
      ],
      "execution_count": 0,
      "outputs": []
    },
    {
      "cell_type": "code",
      "metadata": {
        "id": "Fnbzf2Ua50R6",
        "colab_type": "code",
        "outputId": "99b1d25f-ba24-4f12-f37b-6c725e4e1f4a",
        "colab": {
          "base_uri": "https://localhost:8080/",
          "height": 86
        }
      },
      "source": [
        "print(res1.fun*-1)\n",
        "print(res2.fun*-1)\n",
        "print(res3.fun*-1)\n",
        "print(res4.fun*-1)\n"
      ],
      "execution_count": 17,
      "outputs": [
        {
          "output_type": "stream",
          "text": [
            "0.08456062703260407\n",
            "0.0855388115909698\n",
            "0.0019464894798726495\n",
            "0.002060584001575131\n"
          ],
          "name": "stdout"
        }
      ]
    },
    {
      "cell_type": "code",
      "metadata": {
        "id": "LFXcKY6BqLc5",
        "colab_type": "code",
        "colab": {}
      },
      "source": [
        "minimizer_kwargs = {\"method\": \"SLSQP\", \"constraints\": cobyla_constraints}\n",
        "res1 = opt.basinhopping(\n",
        "    muD_min,\n",
        "    f1.x_max,\n",
        "    minimizer_kwargs=minimizer_kwargs,\n",
        "    accept_test=basinhopping_bounds,\n",
        "    disp=False,\n",
        ")\n",
        "res2 = opt.basinhopping(\n",
        "    muD_min,\n",
        "    f2.x_max,\n",
        "    minimizer_kwargs=minimizer_kwargs,\n",
        "    accept_test=basinhopping_bounds,\n",
        "    disp=False,\n",
        ")\n",
        "res3 = opt.basinhopping(\n",
        "    muD_min,\n",
        "    f3.x_max,\n",
        "    minimizer_kwargs=minimizer_kwargs,\n",
        "    accept_test=basinhopping_bounds,\n",
        "    disp=False,\n",
        ")\n",
        "res4 = opt.basinhopping(\n",
        "    muD_min,\n",
        "    f4.x_max,\n",
        "    minimizer_kwargs=minimizer_kwargs,\n",
        "    accept_test=basinhopping_bounds,\n",
        "    disp=False,\n",
        ")"
      ],
      "execution_count": 0,
      "outputs": []
    },
    {
      "cell_type": "code",
      "metadata": {
        "id": "fhicevJajQLO",
        "colab_type": "code",
        "outputId": "220c320d-ea93-4cc8-e453-ee316c48ff44",
        "colab": {
          "base_uri": "https://localhost:8080/",
          "height": 86
        }
      },
      "source": [
        "print(res1.fun*-1)\n",
        "print(res2.fun*-1)\n",
        "print(res3.fun*-1)\n",
        "print(res4.fun*-1)"
      ],
      "execution_count": 19,
      "outputs": [
        {
          "output_type": "stream",
          "text": [
            "0.0848575051953653\n",
            "0.0839038863592796\n",
            "0.22878047362392254\n",
            "0.20592631341863926\n"
          ],
          "name": "stdout"
        }
      ]
    },
    {
      "cell_type": "code",
      "metadata": {
        "id": "c6_Np8S8omXw",
        "colab_type": "code",
        "outputId": "dcc62909-e0d1-4da0-ebab-50aba7d2d35c",
        "colab": {
          "base_uri": "https://localhost:8080/",
          "height": 173
        }
      },
      "source": [
        "pip install --upgrade pyswarm"
      ],
      "execution_count": 20,
      "outputs": [
        {
          "output_type": "stream",
          "text": [
            "Collecting pyswarm\n",
            "  Downloading https://files.pythonhosted.org/packages/79/1e/254c108b5e65c65d57a83a9a448405ea8b6a6c5c10dada8bcab4e9d9a831/pyswarm-0.6.tar.gz\n",
            "Requirement already satisfied, skipping upgrade: numpy in /usr/local/lib/python3.6/dist-packages (from pyswarm) (1.16.4)\n",
            "Building wheels for collected packages: pyswarm\n",
            "  Building wheel for pyswarm (setup.py) ... \u001b[?25l\u001b[?25hdone\n",
            "  Stored in directory: /root/.cache/pip/wheels/37/c5/f6/b33b9ac00040cb95c1f00af982a4197334a672d6de43f4699f\n",
            "Successfully built pyswarm\n",
            "Installing collected packages: pyswarm\n",
            "Successfully installed pyswarm-0.6\n"
          ],
          "name": "stdout"
        }
      ]
    },
    {
      "cell_type": "code",
      "metadata": {
        "id": "P5u4g2lY6fD-",
        "colab_type": "code",
        "colab": {}
      },
      "source": [
        "lb = [b[0] for b in bounds]\n",
        "ub = [b[1] for b in bounds]\n",
        "cons = [lambda x: np.dot(A_eq, x)-b_eq[0]+0.5, lambda x: np.dot(A_eq, x)-b_eq[0]-0.5]"
      ],
      "execution_count": 0,
      "outputs": []
    },
    {
      "cell_type": "code",
      "metadata": {
        "id": "kjoojryvoYTb",
        "colab_type": "code",
        "outputId": "3372d0c5-7ea0-43a2-e888-018b453dd8fc",
        "colab": {
          "base_uri": "https://localhost:8080/",
          "height": 34
        }
      },
      "source": [
        "from pyswarm import pso\n",
        "\n",
        "xpt, fopt = pso(muD_min, lb, ub, ieqcons=cons)\n"
      ],
      "execution_count": 22,
      "outputs": [
        {
          "output_type": "stream",
          "text": [
            "Stopping search: Swarm best objective change less than 1e-08\n"
          ],
          "name": "stdout"
        }
      ]
    },
    {
      "cell_type": "code",
      "metadata": {
        "id": "a7oFh-5l_-6y",
        "colab_type": "code",
        "outputId": "8e0a0c9e-fc06-4e7c-f244-77a22c3b49cb",
        "colab": {
          "base_uri": "https://localhost:8080/",
          "height": 52
        }
      },
      "source": [
        "print(xpt)\n",
        "print(fopt*-1)"
      ],
      "execution_count": 23,
      "outputs": [
        {
          "output_type": "stream",
          "text": [
            "[ 849.43281011  220.          765.67837318 1005.31013221  330.62670838]\n",
            "0.5304866589450312\n"
          ],
          "name": "stdout"
        }
      ]
    },
    {
      "cell_type": "code",
      "metadata": {
        "id": "J4ub2PdA4fxO",
        "colab_type": "code",
        "colab": {}
      },
      "source": [
        "def muD_max(x):\n",
        "    x = np.array(x)\n",
        "    return np.min([f_.mu(x) for f_ in F])\n",
        "\n",
        "def passo_possivel (passo, xi, xj, bounds_xi, bounds_xj):\n",
        "    if (xi - passo >= bounds_xi[0]) and (xj + passo <= bounds_xj[1]):\n",
        "        return True\n",
        "    else:\n",
        "        return False\n",
        "    \n",
        "def anda (passo, x, i, j):\n",
        "    x[i] -= passo\n",
        "    x[j] += passo\n",
        "    return x\n",
        "    \n",
        "def passo_melhor (posicao_atual, posicao_proposta):\n",
        "    if muD_max(posicao_proposta) > muD_max(posicao_atual):\n",
        "        return True\n",
        "    else:\n",
        "        return False"
      ],
      "execution_count": 0,
      "outputs": []
    },
    {
      "cell_type": "code",
      "metadata": {
        "id": "KMpSkYRAMqmO",
        "colab_type": "code",
        "colab": {
          "base_uri": "https://localhost:8080/",
          "height": 34
        },
        "outputId": "b091df5c-48e9-4586-a0dd-a8d4277f21e6"
      },
      "source": [
        "x = f1.x_max\n",
        "qtd_vars = len(x)\n",
        "passo = 0.5\n",
        "\n",
        "i = 0\n",
        "j = i+1\n",
        "\n",
        "while i < qtd_vars-1:\n",
        "    \n",
        "    while passo_possivel(passo, x[i], x[j], bounds[i], bounds[j]) and passo_melhor(x, anda(passo, x, i, j)):\n",
        "        x = anda(passo, x, i, j)\n",
        "\n",
        "    if j < qtd_vars-1:\n",
        "        j += 1\n",
        "    else:\n",
        "        i += 1\n",
        "        j = i+1\n",
        "            \n",
        "print(x)        \n",
        "                "
      ],
      "execution_count": 53,
      "outputs": [
        {
          "output_type": "stream",
          "text": [
            "[   0.   205.5 1165.  1614.5   15. ]\n"
          ],
          "name": "stdout"
        }
      ]
    },
    {
      "cell_type": "code",
      "metadata": {
        "id": "lGNu6whNH1iJ",
        "colab_type": "code",
        "colab": {}
      },
      "source": [
        "while x_para_passo_acima < qtd_x:\n",
        "    \n",
        "    if XP[v_up] + step <= upper_bounds[v_up]:\n",
        "        \n",
        "        XP[v_up] += step\n",
        "        XP_down = XP[:]\n",
        "\n",
        "        while v_down < nvars:\n",
        "        \n",
        "            if v_down != v_up:\n",
        "                if XP_down[v_down]-step >= lower_bounds[v_down]:\n",
        "                    XP_down[v_down] -= step\n",
        "                    #Debug:\n",
        "                    muX  = round(min(MU(X)), 3)\n",
        "                    muXP = round(min(MU(XP_down)), 3)  \n",
        "                    print \"Estamos: \", X, \" | Tentamos: \", XP_down, \" : \", muX, \" | \", muXP\n",
        "                    #Fim\n",
        "                    if min(MU(XP_down)) > min(MU(X)):\n",
        "                        XP = XP_down[:]\n",
        "                        X  = XP[:]\n",
        "                        #Debug:\n",
        "                        print \"melhor\"\n",
        "                        #Fim\n",
        "                        break\n",
        "                    else:\n",
        "                        XP_down = XP[:]\n",
        "                        #Debug:\n",
        "                        print \"pior\"\n",
        "                        #Fim\n",
        "            v_down += 1\n",
        "                \n",
        "        if sum(XP) > total_bounds:\n",
        "            XP = X[:]\n",
        "        else:\n",
        "            continue\n",
        "    v_down = 0\n",
        "    v_up  += 1"
      ],
      "execution_count": 0,
      "outputs": []
    }
  ]
}